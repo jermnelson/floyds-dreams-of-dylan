{
 "cells": [
  {
   "cell_type": "code",
   "execution_count": 1,
   "metadata": {},
   "outputs": [],
   "source": [
    "import PirateRadio\n",
    "import os\n",
    "import datetime\n",
    "from lxml import etree\n",
    "import pathlib"
   ]
  },
  {
   "cell_type": "code",
   "execution_count": 4,
   "metadata": {},
   "outputs": [],
   "source": [
    "dylan_covers = pathlib.Path('/home/jpnelson/Music/dylan_covers/')"
   ]
  },
  {
   "cell_type": "code",
   "execution_count": 5,
   "metadata": {},
   "outputs": [
    {
     "name": "stdout",
     "output_type": "stream",
     "text": [
      "/home/jpnelson/Music/dylan_covers/plant-one-more-cup-of-coffee.mp3\n",
      "/home/jpnelson/Music/dylan_covers/.git\n",
      "/home/jpnelson/Music/dylan_covers/vedder-masters-of-war.mp3\n",
      "/home/jpnelson/Music/dylan_covers/the-band-i-shall-be-released.mp3\n",
      "/home/jpnelson/Music/dylan_covers/madeleine-peyroux-youre-gonna-make-me-lonesome-when-you-go.mp3\n",
      "/home/jpnelson/Music/dylan_covers/julie-driscoll-brian-auger-trinity-wheels-on-fire.mp3\n",
      "/home/jpnelson/Music/dylan_covers/buckley-mama-youve-been-on-my-mind.mp3\n",
      "/home/jpnelson/Music/dylan_covers/guns-n-roses-knockin-on-heavens-door.mp3\n",
      "/home/jpnelson/Music/dylan_covers/them-its-all-over-now-baby-blue.mp3\n",
      "/home/jpnelson/Music/dylan_covers/spirit-like-a-rolling-stone.mp3\n",
      "/home/jpnelson/Music/dylan_covers/README.md\n",
      "/home/jpnelson/Music/dylan_covers/manfred-mann-mighty-quinn.mp3\n",
      "/home/jpnelson/Music/dylan_covers/the-byrds-mr-tambourine-man.mp3\n",
      "/home/jpnelson/Music/dylan_covers/the-jimi-hendrix-experience-all-along-the-watchtower.mp3\n",
      "/home/jpnelson/Music/dylan_covers/emmylou-harris-every-grain-of-sand.mp3\n",
      "/home/jpnelson/Music/dylan_covers/warren-zevon-knockin-on-heavens-door.mp3\n",
      "/home/jpnelson/Music/dylan_covers/howard-tate-girl-of-the-north-country.mp3\n",
      "/home/jpnelson/Music/dylan_covers/james-calexico-goin-to-acapulco.mp3\n",
      "/home/jpnelson/Music/dylan_covers/buckley-just-like-a-woman.mp3\n"
     ]
    }
   ],
   "source": [
    "for row in dylan_covers.iterdir():\n",
    "    print(row)"
   ]
  },
  {
   "cell_type": "code",
   "execution_count": 9,
   "metadata": {},
   "outputs": [],
   "source": [
    "podcasts = pathlib.Path(\"/home/jpnelson/2020/catalogue-raisonne/art/floyds-dreams-of-dylan/podcasts/\")"
   ]
  },
  {
   "cell_type": "code",
   "execution_count": 10,
   "metadata": {},
   "outputs": [
    {
     "name": "stdout",
     "output_type": "stream",
     "text": [
      "/home/jpnelson/2020/catalogue-raisonne/art/floyds-dreams-of-dylan/podcasts/snowmass-village-2008.xml\n",
      "/home/jpnelson/2020/catalogue-raisonne/art/floyds-dreams-of-dylan/podcasts/songs.ttl\n",
      "/home/jpnelson/2020/catalogue-raisonne/art/floyds-dreams-of-dylan/podcasts/podcast.xml\n",
      "/home/jpnelson/2020/catalogue-raisonne/art/floyds-dreams-of-dylan/podcasts/second-podcast.ttl\n",
      "/home/jpnelson/2020/catalogue-raisonne/art/floyds-dreams-of-dylan/podcasts/park-city-2008.xml\n",
      "/home/jpnelson/2020/catalogue-raisonne/art/floyds-dreams-of-dylan/podcasts/third-podcast.ttl\n",
      "/home/jpnelson/2020/catalogue-raisonne/art/floyds-dreams-of-dylan/podcasts/telluride-2007.xml\n",
      "/home/jpnelson/2020/catalogue-raisonne/art/floyds-dreams-of-dylan/podcasts/first-podcast.ttl\n",
      "/home/jpnelson/2020/catalogue-raisonne/art/floyds-dreams-of-dylan/podcasts/independent-top-10-dylan-covers.xml\n"
     ]
    }
   ],
   "source": [
    "for row in podcasts.iterdir():\n",
    "    print(row.)"
   ]
  },
  {
   "cell_type": "code",
   "execution_count": 27,
   "metadata": {},
   "outputs": [],
   "source": [
    "independent_top_10_dylan_covers = etree.parse(\"/home/jpnelson/2020/catalogue-raisonne/art/floyds-dreams-of-dylan/podcasts/independent-top-10-dylan-covers.xml\")"
   ]
  },
  {
   "cell_type": "code",
   "execution_count": 17,
   "metadata": {},
   "outputs": [
    {
     "data": {
      "text/plain": [
       "0"
      ]
     },
     "execution_count": 17,
     "metadata": {},
     "output_type": "execute_result"
    }
   ],
   "source": []
  },
  {
   "cell_type": "code",
   "execution_count": 18,
   "metadata": {},
   "outputs": [
    {
     "data": {
      "text/plain": [
       "<Element {http://www.itunes.com/dtds/podcast-1.0.dtd}rss at 0x7f74dfe5aa88>"
      ]
     },
     "execution_count": 18,
     "metadata": {},
     "output_type": "execute_result"
    }
   ],
   "source": [
    "independent_top_10_dylan_covers.getroot()"
   ]
  },
  {
   "cell_type": "code",
   "execution_count": 19,
   "metadata": {},
   "outputs": [],
   "source": [
    "podcast_ns = { \"rss\": \"http://www.itunes.com/dtds/podcast-1.0.dtd\"}"
   ]
  },
  {
   "cell_type": "code",
   "execution_count": 28,
   "metadata": {},
   "outputs": [
    {
     "data": {
      "text/plain": [
       "10"
      ]
     },
     "execution_count": 28,
     "metadata": {},
     "output_type": "execute_result"
    }
   ],
   "source": [
    "tracks = independent_top_10_dylan_covers.findall(\"rss:channel/rss:item\", podcast_ns)\n",
    "len(tracks)"
   ]
  },
  {
   "cell_type": "code",
   "execution_count": 37,
   "metadata": {},
   "outputs": [],
   "source": [
    "enclosure = tracks[0].find(\"rss:enclosure\", podcast_ns)\n",
    "title = tracks[0].find(\"rss:title\", podcast_ns)"
   ]
  },
  {
   "cell_type": "code",
   "execution_count": 38,
   "metadata": {},
   "outputs": [
    {
     "data": {
      "text/plain": [
       "'10. Warren Zevon – Knockin’ on Heaven’s Door (2003)'"
      ]
     },
     "execution_count": 38,
     "metadata": {},
     "output_type": "execute_result"
    }
   ],
   "source": [
    "title.text"
   ]
  },
  {
   "cell_type": "code",
   "execution_count": 36,
   "metadata": {},
   "outputs": [
    {
     "data": {
      "text/plain": [
       "'/dylan_covers/warren-zevon-knockin-on-heavens-door.mp3'"
      ]
     },
     "execution_count": 36,
     "metadata": {},
     "output_type": "execute_result"
    }
   ],
   "source": [
    "os.path.join(\"/home/jpnelson/Music\", enclosure.attrib['url'])"
   ]
  },
  {
   "cell_type": "code",
   "execution_count": 41,
   "metadata": {},
   "outputs": [
    {
     "name": "stdout",
     "output_type": "stream",
     "text": [
      "start at 2020-01-23 00:07:32.414948\n",
      "10. Warren Zevon – Knockin’ on Heaven’s Door (2003)\n",
      "9. Manfred Mann – Mighty Quinn (1968)\n",
      "8 Madeleine Peyroux – You’re Gonna Make Me Lonesome When You Go (2004) \n",
      "7 Spirit – Like a Rolling Stone (1975)\n",
      "6 Howard Tate  – Girl from the North Country (1972)\n",
      "5 Julie Driscoll with Brian Auger and the Trinity – This Wheel’s On Fire (1968)\n",
      "4 Emmylou Harris – Every Grain of Sand (1995)\n",
      "3 The Band  – I Shall Be Released (1968)\n",
      "2 The Byrds – Mr Tambourine Man (1965)\n",
      "1 The Jimi Hendrix Experience – All Along the Watchtower (1968)\n",
      "Finished at 2020-01-23 00:43:49.629372, total time: 36.28333333333333\n"
     ]
    }
   ],
   "source": [
    "start = datetime.datetime.utcnow()\n",
    "print(\"start at {}\".format(start))\n",
    "for track in tracks:\n",
    "    print(\"{}\".format(track.find(\"rss:title\", podcast_ns).text))\n",
    "    enclosure = track.find(\"rss:enclosure\", podcast_ns)\n",
    "    song_mp3 = \"/home/jpnelson/Music{}\".format(enclosure.attrib['url'])\n",
    "    os.system(\"mpg123 {}\".format(song_mp3))\n",
    "end = datetime.datetime.utcnow()\n",
    "print(\"Finished at {}, total time: {}\".format(end, (end-start).seconds / 60.0))"
   ]
  },
  {
   "cell_type": "code",
   "execution_count": 4,
   "metadata": {},
   "outputs": [],
   "source": [
    "def play(podcast_path, podcast_ns = { \"rss\": \"http://www.itunes.com/dtds/podcast-1.0.dtd\"}):\n",
    "    start = datetime.datetime.utcnow()\n",
    "    podcast = etree.parse(podcast_path)\n",
    "    print(f\"Started podcast {podcast_path.split('/')[-1]} at {start}\")\n",
    "    tracks = podcast.findall(\"rss:channel/rss:item\", podcast_ns)\n",
    "    for track in tracks:\n",
    "        print(\"{}\".format(track.find(\"rss:title\", podcast_ns).text))\n",
    "        enclosure = track.find(\"rss:enclosure\", podcast_ns)\n",
    "        song_mp3 = \"/home/jpnelson/Music{}\".format(enclosure.attrib['url'])\n",
    "        os.system(\"mpg123 {}\".format(song_mp3))\n",
    "    end = datetime.datetime.utcnow()\n",
    "    print(\"Finished at {}, total time: {}\".format(end, (end-start).seconds / 60.0))\n",
    "    "
   ]
  },
  {
   "cell_type": "code",
   "execution_count": 5,
   "metadata": {},
   "outputs": [
    {
     "name": "stdout",
     "output_type": "stream",
     "text": [
      "Started podcast rolling-stones-readers-poll-the-10-best-bob-dylan-covers.xml at 2020-02-06 00:31:22.308617\n",
      "10 Jeff Buckley: “Just Like a Woman”\n",
      "9 Jeff Buckley: “Mama, You’ve Been On My Mind”\n",
      "8 Eddie Vedder: “Masters of War”\n",
      "7 Calexico and Jim James: ‘Going to Acapulco’\n",
      "6 The Band: “I Shall Be Released”\n",
      "5 Them: “It’s All Over Now, Baby Blue”\n",
      "4 Robert Plant: “One More Cup of Coffee”\n",
      "3 Guns N’ Roses: “Knockin’ on Heaven’s Door”\n",
      "2 The Byrds: “Mr. Tambourine Man”\n",
      "1 Jimi Hendrix: “All Along the Watchtower”\n",
      "Finished at 2020-02-06 00:50:57.430998, total time: 19.583333333333332\n"
     ]
    }
   ],
   "source": [
    "play(\"/home/jpnelson/2020/catalogue-raisonne/art/floyds_dreams_of_dylan/podcasts/rolling-stones-readers-poll-the-10-best-bob-dylan-covers.xml\")"
   ]
  },
  {
   "cell_type": "code",
   "execution_count": 6,
   "metadata": {},
   "outputs": [
    {
     "name": "stdout",
     "output_type": "stream",
     "text": [
      "Started podcast park-city-2008.xml at 2020-02-12 21:33:26.710755\n",
      "Rainy Day Women #12 & 35\n",
      "When I Paint My Masterpiece\n",
      "Stuck Inside of Mobile with the Memphis Blues Again\n",
      "Not Dark Yet\n",
      "Don’t Think Twice, It’s All Right\n",
      "Million Miles\n",
      "Desolation Row\n",
      "She Belongs to Me\n",
      "Honest with Me\n",
      "Simple Twist of Fate\n",
      "Highway 61 Revisited\n",
      "Queen Jane Approximately\n",
      "Thunder on the Mountain\n",
      "Like a Rolling Stone\n",
      "Finished at 2020-02-12 21:33:26.937251, total time: 0.0\n"
     ]
    }
   ],
   "source": [
    "play(\"/home/jpnelson/2020/catalogue-raisonne/art/floyds_dreams_of_dylan/podcasts/park-city-2008.xml\")"
   ]
  },
  {
   "cell_type": "code",
   "execution_count": 7,
   "metadata": {},
   "outputs": [
    {
     "name": "stdout",
     "output_type": "stream",
     "text": [
      "Started podcast rolling-stones-readers-poll-the-10-best-bob-dylan-covers.xml at 2020-02-12 21:33:54.100007\n",
      "10 Jeff Buckley: “Just Like a Woman”\n",
      "9 Jeff Buckley: “Mama, You’ve Been On My Mind”\n",
      "8 Eddie Vedder: “Masters of War”\n",
      "7 Calexico and Jim James: ‘Going to Acapulco’\n",
      "6 The Band: “I Shall Be Released”\n",
      "5 Them: “It’s All Over Now, Baby Blue”\n",
      "4 Robert Plant: “One More Cup of Coffee”\n",
      "3 Guns N’ Roses: “Knockin’ on Heaven’s Door”\n",
      "2 The Byrds: “Mr. Tambourine Man”\n",
      "1 Jimi Hendrix: “All Along the Watchtower”\n",
      "Finished at 2020-02-12 21:34:09.536478, total time: 0.25\n"
     ]
    }
   ],
   "source": [
    "play(\"/home/jpnelson/2020/catalogue-raisonne/art/floyds_dreams_of_dylan/podcasts/rolling-stones-readers-poll-the-10-best-bob-dylan-covers.xml\")"
   ]
  },
  {
   "cell_type": "code",
   "execution_count": null,
   "metadata": {},
   "outputs": [
    {
     "name": "stdout",
     "output_type": "stream",
     "text": [
      "Started podcast snowmass-village-2008.xml at 2020-02-12 21:50:56.054994\n",
      "Rainy Day Women #12 & 35\n",
      "It’s All Over Now, Baby Blue\n",
      "Most Likely You Go Your Way (and I’ll Go Mine)\n",
      "Cry a While\n"
     ]
    }
   ],
   "source": [
    "play(\"/home/jpnelson/2020/catalogue-raisonne/art/floyds_dreams_of_dylan/podcasts/snowmass-village-2008.xml\")"
   ]
  },
  {
   "cell_type": "code",
   "execution_count": null,
   "metadata": {},
   "outputs": [],
   "source": []
  }
 ],
 "metadata": {
  "kernelspec": {
   "display_name": "Python 3",
   "language": "python",
   "name": "python3"
  },
  "language_info": {
   "codemirror_mode": {
    "name": "ipython",
    "version": 3
   },
   "file_extension": ".py",
   "mimetype": "text/x-python",
   "name": "python",
   "nbconvert_exporter": "python",
   "pygments_lexer": "ipython3",
   "version": "3.6.9"
  }
 },
 "nbformat": 4,
 "nbformat_minor": 4
}
