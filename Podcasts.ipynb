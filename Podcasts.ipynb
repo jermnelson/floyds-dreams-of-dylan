{
 "cells": [
  {
   "cell_type": "code",
   "execution_count": 1,
   "metadata": {},
   "outputs": [],
   "source": [
    "top_50_raw = \"\"\"<div><div class=\"rph6o54\"><section class=\"ch4les4\"><style>* { box-sizing: border-box; } body {margin: 0;}*{box-sizing:border-box;}body{margin-top:0px;margin-right:0px;margin-bottom:0px;margin-left:0px;}.description{font-size:17.6px;}</style><div data-reactroot=\"\" class=\"body story-image\"><img alt=\"GettyImages-74261569.jpg\" src=\"https://pocket-syndicated-images.s3.amazonaws.com/5e971ba5736f0.jpg\"><p class=\"description\"><span class=\"caption\"><span class=\"caption-space\"> </span> <span class=\"caption-content\"><i>Bob Dylan plays piano with a harmonica around his neck while recording the album 'Highway 61 Revisited' at Columbia's Studio A during the summer of 1965 in New York City. Photo by Michael Ochs Archives / Getty Images</i>.</span></span></p></div><h2 class=\"body title\">50. Changing of the Guards (1978)</h2><p class=\"body\">\n",
    "    \n",
    "                        Street Legal delivered fans a shock: Dylan fronting a large band, with female backing singers to the fore. The words, meanwhile, might well represent an oblique personal history, from adolescence through marriage to religious conversion: whatever they were about, they reduced Patti Smith to tears on first hearing.\n",
    "                    \n",
    "</p><h2 class=\"body title\">49. This Wheel’s on Fire (1967)</h2><p class=\"body\">\n",
    "    \n",
    "                        Subsequently covered by everyone from <a href=\"https://www.youtube.com/watch?v=EAJH2T_v2RY\">Siouxsie and the Banshees</a> to <a href=\"https://www.youtube.com/watch?v=8GEl78He2Kg\">Kylie Minogue</a>, in every style from psychedelic to electro-glam stomp, the original Basement Tapes recording of This Wheel’s on Fire – both a great song and another of Dylan’s umpteen apocalyptic visions – has a uniquely intense, eerie quality that no one else has subsequently matched.\n",
    "                    \n",
    "</p><h2 class=\"body title\">48. Pay in Blood (2012)</h2><p class=\"body\">\n",
    "    \n",
    "                        Should you wonder if Dylan’s capacity for rage had been dulled by his advancing years, listen to Pay in Blood, a gentle musical backdrop for an expression of literally murderous fury: at first he’s so angry that the lyrics are incomprehensible, his voice just a phlegmy snarling noise; when they come into focus, he’s demanding vengeance on bankers and politicians “pumping out [their] piss”. Bracing.\n",
    "                    \n",
    "</p><h2 class=\"body title\">47. My Back Pages (1964)</h2><p class=\"body\">\n",
    "    \n",
    "                        Those upset when Dylan went electric couldn’t say he didn’t warn them <em>something</em> big was coming: My Back Pages spends the best part of five minutes not repudiating his protest singer past, but bidding the kind of certainties that fuelled it (“lies that life is black and white”) a sardonic farewell.\n",
    "                    \n",
    "</p><div id=\"RIL_VIDEO_1\" class=\"body RIL_video video_type_1\"><object align=\"middle\"><param value=\"//www.youtube.com/v/9ItmlGRB718\" name=\"movie\"><param value=\"transparent\" name=\"wmode\"><embed wmode=\"transparent\" type=\"application/x-shockwave-flash\" src=\"//www.youtube.com/v/9ItmlGRB718\"></object></div><h2 class=\"body title\">46. Make You Feel My Love (1997)</h2><p class=\"body\">\n",
    "    \n",
    "                        No recent Dylan song has become as ubiquitous as Make You Feel My Love, its status as a modern standard largely down to <a href=\"https://www.youtube.com/watch?v=0put0_a--Ng\">Adele’s cover version</a>. The original is noticeably darker in tone, largely because it’s sung by Dylan in his fearsome latter-day rasp, but its powerful cocktail of beautifully direct lyrics and indelible melody are irresistible.\n",
    "                    \n",
    "</p><h2 class=\"body title\">45. Went to See the Gypsy (1970)</h2><p class=\"body\">\n",
    "    \n",
    "                        This fabulous (perhaps imaginary) account of meeting Elvis casts Dylan in the unlikely role of awestruck fan and imbues Presley with mystical powers (“he can … drive you from your fear, bring you through the mirror”) capable of restoring another artist’s creativity: following their meeting, Dylan has “music in [his] ears”.\n",
    "                    \n",
    "</p><h2 class=\"body title\">44. Blowin’ in the Wind (1963)</h2><p class=\"body\">\n",
    "    \n",
    "                        Apparently written in a matter of minutes, its melody borrowed from <a href=\"https://www.youtube.com/watch?v=lqQBc76Abj0\">No More Auction Block</a> – a civil war-era spiritual performed by Dylan and Odetta – Blowin’ in the Wind may be Dylan’s most famous protest song precisely because, as he pointed out, it’s not a protest song: it deals in universalities rather than specifics, making it infinitely adaptable.\n",
    "                    \n",
    "</p><h2 class=\"body title\">43. Ain’t Talkin’ (2006)</h2><p class=\"body\">\n",
    "    \n",
    "                        The conclusion of Modern Times brought more brooding horror – violence, plague, unending suffering – with an opening line that made it sound like an old folk ballad (“as I walked out …”) and a twist that the song’s protagonist isn’t just a dismayed observer, but potentially something much worse: his heart occupied by “an evil spirit”, he ends the song confronting a lone woman.\n",
    "                    \n",
    "</p><h2 class=\"body title\">42. One Too Many Mornings (1964)</h2><p class=\"body\">\n",
    "    \n",
    "                        A respite from the firebrand finger-pointing that comprises much of The Times They Are A-Changing, the moving One Too Many Mornings finds Dylan reflecting on the complex end of his relationship with <a href=\"https://www.theguardian.com/music/2011/feb/28/suze-rotolo-obituary\">Suze Rotolo</a>: “It’s a restless hungry feeling that don’t mean no one no good/When everything I’m saying, you can say it just as good”.\n",
    "                    \n",
    "</p><h2 class=\"body title\">41. Forever Young (1974)</h2><p class=\"body\">\n",
    "    \n",
    "                        Written “in a minute”, there’s a strong argument that the best version of Dylan’s universal description of the emotions of fatherhood is the original demo: the reason he eventually allowed a lo-fi and incomplete recording to be released is that there is a rawness and emotional punch to it that the two takes on 1974’s Planet Waves never quite match.\n",
    "                    \n",
    "</p><h2 class=\"body title\">40. Jokerman (1983)</h2><p class=\"body\">\n",
    "    \n",
    "                        The Mark Knopfler-produced Infidels divided critical opinion, but everyone seemed to agree its opening track was great – a complex lyric underpinned with Sly and Robbie’s subtle reggae rhythm. The best version, however, is the scorching one Dylan performed on David Letterman’s TV show with new wave band the Plugz, a tantalising glimpse of an alternative route through the 80s he chose not to take.\n",
    "                    \n",
    "</p><div id=\"RIL_VIDEO_2\" class=\"body RIL_video video_type_1\"><object align=\"middle\"><param value=\"//www.youtube.com/v/nP85Uc6H79U\" name=\"movie\"><param value=\"transparent\" name=\"wmode\"><embed wmode=\"transparent\" type=\"application/x-shockwave-flash\" src=\"//www.youtube.com/v/nP85Uc6H79U\"></object></div><h2 class=\"body title\">39. The Times They Are A-Changin’ (1964)</h2><p class=\"body\">\n",
    "    \n",
    "                        The title track of Dylan’s third album was genuinely incendiary, a call to action that is more about identifying a generational divide that would turn into a gulf as the 60s progressed than any specific cause: “Come mothers and fathers throughout the land, and don’t criticise what you can’t understand.”\n",
    "                    \n",
    "</p><h2 class=\"body title\">38. Love Minus Zero/No Limit (1965)</h2><p class=\"body\">\n",
    "    \n",
    "                        “That wasn’t like any pop music I’ve heard,” offered one dissenting voice amid the disappointed folkies interviewed after a 1966 Sheffield Dylan gig. The dissenter had a point: that Dylan was reshaping pop in his own image is underlined by Love Minus Zero/No Limit, a gorgeously tuneful love song with lyrics richer than any previous love song.\n",
    "                    \n",
    "</p><h2 class=\"body title\">37. If Not For You (1970)</h2><p class=\"body\">\n",
    "    \n",
    "                        More appealing than his hit anthem of husbandly devotion, Lay Lady Lay, If Not For You offers nothing to unravel, no mystery, nothing you could write an extended literary essay about, just directness and emotional connection. It is, to use a phrase not often appended to Dylan’s work, catchy.\n",
    "                    \n",
    "</p><div id=\"RIL_VIDEO_3\" class=\"body RIL_video video_type_1\"><object align=\"middle\"><param value=\"//www.youtube.com/v/yyouhbgAiCA\" name=\"movie\"><param value=\"transparent\" name=\"wmode\"><embed wmode=\"transparent\" type=\"application/x-shockwave-flash\" src=\"//www.youtube.com/v/yyouhbgAiCA\"></object></div><h2 class=\"body title\">36. Knockin’ on Heaven’s Door (1973)</h2><p class=\"body\">\n",
    "    \n",
    "                        Knockin’ on Heaven’s Door’s elevation to all-purpose air-punching rock anthem – most notably in <a href=\"https://www.youtube.com/watch?v=f8OHybVhQwc\">Guns N’ Roses’ preposterously overwrought cover</a> – was perhaps to be expected given its chorus, but there’s a sense the song itself gets trampled in the process: you are better off with the simplicity and haunted, echoey ambience of Dylan’s original.\n",
    "                    \n",
    "</p><h2 class=\"body title\">35. Slow Train (1979)</h2><p class=\"body\">\n",
    "    \n",
    "                        A complicated business: the most controversial of Dylan’s born again songs – occasionally, the lyrics sail perilously close to rightwing religious fundamentalism – also happens to be the best. There’s a tautness to the music that undercuts the slick production, real drama and conviction in the vocal delivery that shifts from rage to a kind of joy at the coming of judgment day.\n",
    "                    \n",
    "</p><h2 class=\"body title\">34. Brownsville Girl (1986)</h2><p class=\"body\">\n",
    "    \n",
    "                        The largely rotten Knocked Out Loaded suggested Dylan was in trouble. Yet he could, occasionally, come up with the goods: co-written with playwright <a href=\"https://www.theguardian.com/stage/2017/aug/01/sam-shepard-obituary\">Sam Shepard</a>, Brownsville Girl offers 17 weirdly conversational sung-spoken verses that ruminate on everything from his ongoing writer’s block to Gregory Peck, and which include a poignant Dylan aphorism: “People who suffer together have stronger connections than people who are most content.”\n",
    "                    \n",
    "</p><h2 class=\"body title\">33. Murder Most Foul (2020)</h2><p class=\"body\">\n",
    "    \n",
    "                        Dylan’s longest song <a href=\"https://www.theguardian.com/music/2020/mar/27/bob-dylan-murder-most-foul-review-jfk-assassination-john-f-kennedy\">appeared without warning</a>, in the midst of the coronavirus lockdown. Its meditation on the death of JFK, packed with enough cultural references to keep fans busy until restrictions are lifted, was more of a recitation set to music than a song, unlike anything he had previously recorded: evidence that, nearing 80, the old boy keeps pushing forward.\n",
    "                    \n",
    "</p><h2 class=\"body title\">32. It’s All Over Now Baby Blue (1965)</h2><p class=\"body\">\n",
    "    \n",
    "                        Bringing It All Back Home ended with a song in the vein of Another Side’s finale, It Ain’t Me Babe. Once again, it isn’t entirely clear whether Dylan is bidding farewell to a lover or the chunk of his fanbase who wanted him to stay as he was. Either way, it ends with a robust memo-to-self: “Strike another match, go start anew”.\n",
    "                    \n",
    "</p><div id=\"RIL_VIDEO_4\" class=\"body RIL_video video_type_1\"><object align=\"middle\"><param value=\"//www.youtube.com/v/L4HW33SgZlM\" name=\"movie\"><param value=\"transparent\" name=\"wmode\"><embed wmode=\"transparent\" type=\"application/x-shockwave-flash\" src=\"//www.youtube.com/v/L4HW33SgZlM\"></object></div><h2 class=\"body title\">31. Isis (1976)</h2><p class=\"body\">\n",
    "    \n",
    "                        There’s a theory that the chorus-free Isis tells the allegorical story of Dylan’s attempts to patch up his marriage (“what drives me to you,” he glumly suggests, “is what drives me insane”), but whatever it’s about, it’s amazingly forceful, its travelogue driven relentlessly forward by Scarlet Rivera’s violin and the power of Dylan’s vocal.\n",
    "                    \n",
    "</p><h2 class=\"body title\">30. High Water (For Charlie Patton) (2001)</h2><p class=\"body\">\n",
    "    \n",
    "                        The highlight of Love and Theft feels like a distant relation to 1983’s Blind Willie McTell – another powerful travelogue inspired by a legendary bluesman, its refrain taken from Patton’s High Water Everywhere – although the tone is noticeably more ominous, the odd flash of humour (“jump into the wagon, love, throw your panties overboard”) deeply incongruous.\n",
    "                    \n",
    "</p><h2 class=\"body title\">29. Don’t Think Twice It’s Alright (1963)</h2><p class=\"body\">\n",
    "    \n",
    "                        Ironically, Dylan’s paean to Suze Rotolo – away in Italy when he devised its perfectly-done balance of tenderness and acrimony – helped end their relationship for good: when Rotolo heard Joan Baez introduce it onstage as a song “about a love affair that has lasted too long”, it prompted her to leave him.\n",
    "                    \n",
    "</p><h2 class=\"body title\">28. All Along the Watchtower (1967)</h2><p class=\"body\">\n",
    "    \n",
    "                        Dylan thought <a href=\"https://www.youtube.com/watch?v=TLV4_xaYynY\">Jimi Hendrix’s cover of All Along the Watchtower</a> was so definitive that he subsequently started playing it live in Hendrix’s style. But there’s a lot to be said for Dylan’s humble original, its brevity and starkness capturing the same end-times intensity in a different way.\n",
    "                    \n",
    "</p><h2 class=\"body title\">27. Most of the Time (1989)</h2><p class=\"body\">\n",
    "    \n",
    "                        Most of the Time both demonstrates how much producer Daniel Lanois had to do with Dylan’s best 80s album Oh Mercy – the sound is rich, shimmering and atmospheric – and how Dylan himself had recovered from an artistic slump: the lyrical drawing of the emotional fallout from a failed relationship is both sharp and sensitive, his delivery perfectly judged.\n",
    "                    \n",
    "</p><div id=\"RIL_VIDEO_5\" class=\"body RIL_video video_type_1\"><object align=\"middle\"><param value=\"//www.youtube.com/v/SQbr4ISrjII\" name=\"movie\"><param value=\"transparent\" name=\"wmode\"><embed wmode=\"transparent\" type=\"application/x-shockwave-flash\" src=\"//www.youtube.com/v/SQbr4ISrjII\"></object></div><h2 class=\"body title\">26. I Want You (1966)</h2><p class=\"body\">\n",
    "    \n",
    "                        The last song recorded for Blonde on Blonde features a parade of intriguing characters – the “dancing child” is supposedly Rolling Stone Brian Jones – but, by the standards of Dylan’s songwriting at the time, it’s straightforward: a buoyant, utterly charming declaration of love on which his Nashville band once more prove their worth. The guitar playing in particular is a joy.\n",
    "                    \n",
    "</p><h2 class=\"body title\">25. Simple Twist of Fate (1975)</h2><p class=\"body\">\n",
    "    \n",
    "                        Dylan professed to be horrified that people liked Blood on the Tracks (“enjoying that kind of pain,” he complained). But regardless of<a href=\"https://www.theguardian.com/music/2018/oct/28/bob-dylan-more-blood-more-tracks-raw-painful-birth\"> its backstory</a>, who couldn’t love Simple Twist of Fate? Genius at full throttle, it’s got everything – a naggingly infectious melody, an impassioned vocal and incredible lyrics that depict his marriage collapsing in the third person.\n",
    "                    \n",
    "</p><h2 class=\"body title\">24. Hurricane (1976)</h2><p class=\"body\">\n",
    "    \n",
    "                        The plight of imprisoned boxer Reuben Carter drove Dylan back to writing protest songs: Hurricane is as detailed, hard-hitting and journalistic as The Lonesome Death of Hattie Carroll. There’s a real tension between his snarling voice and the song’s appealing melody, a shattering force about its lyrics: “If you’re black you might as well not show up on the street, unless you wanna draw the heat”.\n",
    "                    \n",
    "</p><div id=\"RIL_VIDEO_6\" class=\"body RIL_video video_type_1\"><object align=\"middle\"><param value=\"//www.youtube.com/v/bpZvg_FjL3Q\" name=\"movie\"><param value=\"transparent\" name=\"wmode\"><embed wmode=\"transparent\" type=\"application/x-shockwave-flash\" src=\"//www.youtube.com/v/bpZvg_FjL3Q\"></object></div><h2 class=\"body title\">23. I Shall Be Released (1967)</h2><p class=\"body\">\n",
    "    \n",
    "                        Among the most-covered of Dylan’s songs (<a href=\"https://www.youtube.com/watch?v=IgM4yK8ih_w\">even the Beatles had a crack at it</a>) I Shall Be Released ended up a rousing singalong protest anthem, but it’s the original, largely unadorned version on The Basement Tapes Raw that best captures its real power: a hymn-like song not about literal imprisonment but transcending physical existence.\n",
    "                    \n",
    "</p><h2 class=\"body title\">22. Chimes of Freedom (1964)</h2><p class=\"body\">\n",
    "    \n",
    "                        The title makes Chimes of Freedom sound like a protest song, but it’s something else entirely, a vivid, poetic recounting of a storm (“the sky cracked its poems in naked wonder … the rain unravelled tales”) that seems to have provoked an epiphany in its author: a dazzling signpost to where Dylan was headed.\n",
    "                    \n",
    "</p><h2 class=\"body title\">21. I Threw It All Away (1969)</h2><p class=\"body\">\n",
    "    \n",
    "                        Nashville Skyline’s greatest song. Exceptionally beautiful, incredibly sad and the antithesis of the Dylan of three years prior – his voice doesn’t even sound like his own – I Threw It All Away is uncluttered, straightforward, fluid: its beauty comes from its simplicity rather than its density.\n",
    "                    \n",
    "</p><h2 class=\"body title\">20. A Hard Rain’s A Gonna Fall (1963)</h2><p class=\"body\">\n",
    "    \n",
    "                        In response to the Cuban missile crisis, A Hard Rain’s A-Gonna Fall “roared right out the typewriter” in the words of a friend who watched Dylan write it. Furthermore, he recorded it in one take: a torrent of apocalyptic imagery so potent it long outlived the moment it was supposed to soundtrack.\n",
    "                    \n",
    "</p><div id=\"RIL_VIDEO_7\" class=\"body RIL_video video_type_1\"><object align=\"middle\"><param value=\"//www.youtube.com/v/T5al0HmR4to\" name=\"movie\"><param value=\"transparent\" name=\"wmode\"><embed wmode=\"transparent\" type=\"application/x-shockwave-flash\" src=\"//www.youtube.com/v/T5al0HmR4to\"></object></div><h2 class=\"body title\">19. The Groom’s Still Waiting at the Altar (1981)</h2><p class=\"body\">\n",
    "    \n",
    "                        Dylan’s 80s were marked by some weird decisions about album track listings, which begin here: what possessed him to leave this ferocious slice of blues-rock off Shot of Love? It’s superb, its edge-of-chaos rowdiness and sheer passion in his vocal making it a counterpart to the music on Highway 61 Revisited.\n",
    "                    \n",
    "</p><h2 class=\"body title\">18. Mr Tambourine Man (1965)</h2><p class=\"body\">\n",
    "    \n",
    "                        A leftover from Another Side of <a href=\"https://www.theguardian.com/music/bobdylan\">Bob Dylan</a> that signposted his future even more dramatically than Chimes of Freedom, Mr Tambourine Man’s tumble of free-associating imagery immediately got it pegged as a drug song, but it’s more about the act of writing itself, a joyous paean to the moment the muse takes over.\n",
    "                    \n",
    "</p><h2 class=\"body title\">17. Ballad of a Thin Man (1965)</h2><p class=\"body\">\n",
    "    \n",
    "                        No character in a Dylan song has inspired so much conjecture as Ballad of a Thin Man’s poor old Mr Jones: who on earth could have inspired such an unrelenting outpouring of bile? Perhaps it doesn’t matter: better not to worry about the subject and just luxuriate – if that’s the word – in its doom-laden sound and the fizzing intensity of Dylan’s delivery.\n",
    "                    \n",
    "</p><div id=\"RIL_VIDEO_8\" class=\"body RIL_video video_type_1\"><object align=\"middle\"><param value=\"//www.youtube.com/v/we37yX3zpKA\" name=\"movie\"><param value=\"transparent\" name=\"wmode\"><embed wmode=\"transparent\" type=\"application/x-shockwave-flash\" src=\"//www.youtube.com/v/we37yX3zpKA\"></object></div><h2 class=\"body title\">16. One of Us Must Know (Sooner Or Later) (1966)</h2><p class=\"body\">\n",
    "    \n",
    "                        A postmatch analysis of a love affair gone wrong, One of Us Must Know is the negative image of the “nasty” songs in which Dylan had come to specialise: he sounds apologetic (at least most of the time) rather than apoplectic; its fantastic chorus, driven by Al Kooper’s organ, feels somewhere between a surge of energy and a sigh.\n",
    "                    \n",
    "</p><h2 class=\"body title\">15. It’s Alright Ma (I’m Only Bleeding) (1965)</h2><p class=\"body\">\n",
    "    \n",
    "                        A song containing a plethora of justly celebrated Dylan aphorisms – “He not busy being born is busy dying” is perhaps the greatest – It’s Alright Ma (I’m Only Bleeding) is a gripping, furious explosion of apocalyptic imagery that posits the timeless theory that politicians and the media offer a false sense of reality.\n",
    "                    \n",
    "</p><h2 class=\"body title\">14. Things Have Changed (1997)</h2><p class=\"body\">\n",
    "    \n",
    "                        Dylan’s superb, Oscar-winning contribution to the soundtrack of <a href=\"https://www.youtube.com/watch?v=sveK_fhIqhs\">Wonder Boys</a> finds him – not for the first or last time – casting a jaundiced eye over a world he feels out of step with, its insistent, shuffling music a backdrop for a series of vibrant portents of impending doom, all dismissed with a grouchy shrug: “I used to care but things have changed.”\n",
    "                    \n",
    "</p><h2 class=\"body title\">13. The Lonesome Death of Hattie Carroll (1964)</h2><p class=\"body\">\n",
    "    \n",
    "                        Arguably the most powerful of all Dylan’s protest songs, Hattie Carroll occasionally plays fast and loose with the facts of the racist murder it describes, but its combination of journalistic reportage and poetic technique is astonishing: the fact that it’s measured, unhysterical and unsentimental in tone makes it all the more impactful.\n",
    "                    \n",
    "</p><div id=\"RIL_VIDEO_9\" class=\"body RIL_video video_type_1\"><object align=\"middle\"><param value=\"//www.youtube.com/v/t_v3w30XdhI\" name=\"movie\"><param value=\"transparent\" name=\"wmode\"><embed wmode=\"transparent\" type=\"application/x-shockwave-flash\" src=\"//www.youtube.com/v/t_v3w30XdhI\"></object></div><h2 class=\"body title\">12. Tangled Up in Blue (1975)</h2><p class=\"body\">\n",
    "    \n",
    "                        You could include anything or everything from Blood on the Tracks in a list such as this: spurred by the failure of his marriage, his muse was working overtime, as evidenced by its astonishing opening track, a fragmentary, unreliably narrated recollection of a failed relationship that shifts erratically from one scene to another, like a dream.\n",
    "                    \n",
    "</p><h2 class=\"body title\">11. Girl From the North Country (1963)</h2><p class=\"body\">\n",
    "    \n",
    "                        Perhaps the loveliest of Dylan’s early love songs, Girl From the North County is a remembrance of an old girlfriend – exactly which one is the subject of a quite insane level of debate – suffused with nostalgia and regret, on which the starkness of The Freewheelin’ Bob Dylan’s sound is transformed into hushed, small-hours reflection.\n",
    "                    \n",
    "</p><div id=\"RIL_VIDEO_10\" class=\"body RIL_video video_type_1\"><object align=\"middle\"><param value=\"//www.youtube.com/v/n2R3gHRlZf8\" name=\"movie\"><param value=\"transparent\" name=\"wmode\"><embed wmode=\"transparent\" type=\"application/x-shockwave-flash\" src=\"//www.youtube.com/v/n2R3gHRlZf8\"></object></div><h2 class=\"body title\">10. It Ain’t Me Babe (1964)</h2><p class=\"body\">\n",
    "    \n",
    "                        In which another kiss-off to Suze Rotolo – who frankly receives a bit of a raw deal in the lyrics – gets mixed up with Dylan waving his voice of a generation tag goodbye. It’s unclear throughout whether he is addressing his ex or his audience, although the fact it concludes his last acoustic album lends strength to the latter interpretation.\n",
    "                    \n",
    "</p><h2 class=\"body title\">9. Sad Eyed Lady of the Lowlands (1966)</h2><p class=\"body\">\n",
    "    \n",
    "                        Dylan considered Sad Eyed Lady important enough to devote a whole side of rock’s first double album to it, as if it needed to stand alone. He subsequently couldn’t decide if it was an 11-minute masterpiece, or him “just [getting] carried away”: listening to its understated sound, cyclical melody and devotional lyrics, it’s hard not to cleave to the former interpretation.\n",
    "                    \n",
    "</p><h2 class=\"body title\">8. Not Dark Yet (1997)</h2><p class=\"body\">\n",
    "    \n",
    "                        The sound of a 56-year-old man facing up to mortality, Not Dark Yet developed a chilling prescience when its author nearly died of pericarditis before it was released. But Not Dark Yet doesn’t need a spooky backstory. It succeeds entirely on its own merits: gloomy, thoughtful and occasionally blackly comic, it was one reason why Time Out of Mind was acclaimed as a masterpiece.\n",
    "                    \n",
    "</p><div id=\"RIL_VIDEO_11\" class=\"body RIL_video video_type_1\"><object align=\"middle\"><param value=\"//www.youtube.com/v/5fGYWAVw2zg\" name=\"movie\"><param value=\"transparent\" name=\"wmode\"><embed wmode=\"transparent\" type=\"application/x-shockwave-flash\" src=\"//www.youtube.com/v/5fGYWAVw2zg\"></object></div><h2 class=\"body title\">7. Positively Fourth Street (1965)</h2><p class=\"body\">\n",
    "    \n",
    "                        Boasting one of the great stop-you-in-your-tracks opening lines – “You’ve got a lot of nerve …” – Positively Fourth Street’s sneering excoriation of the Greenwich Village folk scene feels like eavesdropping on a particularly savage argument: so vicious you feel guilty for listening in, so compelling you can’t help yourself.\n",
    "                    \n",
    "</p><h2 class=\"body title\">6. Blind Willie McTell (1983)</h2><p class=\"body\">\n",
    "    \n",
    "                        Another track Dylan bafflingly discarded, this aching, vivid, unflinching acoustic conjuring of the old South the titular bluesman inhabited – equal parts beauty and injustice – was instantly and rightly acclaimed as one of his greatest songs when it finally appeared on the 1991 Bootleg Series Volumes 1-3 box set.\n",
    "                    \n",
    "</p><div id=\"RIL_VIDEO_12\" class=\"body RIL_video video_type_1\"><object align=\"middle\"><param value=\"//www.youtube.com/v/_uf5gi3E_rQ\" name=\"movie\"><param value=\"transparent\" name=\"wmode\"><embed wmode=\"transparent\" type=\"application/x-shockwave-flash\" src=\"//www.youtube.com/v/_uf5gi3E_rQ\"></object></div><h2 class=\"body title\">5. Desolation Row (1965)</h2><p class=\"body\">\n",
    "    \n",
    "                        In the mid-60s Dylan complained that he had never written anything as “far out” as the strangest folk ballads, but on Desolation Row, he succeeded in taking the ballad form to a completely new place. It’s a cliche to compare it to TS Eliot’s The Waste Land, but it fits: 11 stark minutes of oppressive, absurd imagery that never slackens its grip on the listener despite its length.\n",
    "                    \n",
    "</p><h2 class=\"body title\">4. Subterranean Homesick Blues (1965)</h2><p class=\"body\">\n",
    "    \n",
    "                        Everyone knows that the release of Subterranean Homesick Blues was a pivotal moment in rock history. More startling is how explosive it still sounds, 55 years away from the furore about Dylan “going electric” and the emergent counterculture the song seemed to embody: the relentless staccato vocal barrage, the lyrical fireworks, the chaotic racket kicked up by the backing musicians. Endlessly imitated, never equalled.\n",
    "                    \n",
    "</p><h2 class=\"body title\">3. Idiot Wind (1975)</h2><p class=\"body\">\n",
    "    \n",
    "                        On one level an outpouring of fury to rival anything his amphetamine-fuelled younger self came up with, yet Idiot Wind differs from Ballad of a Thin Man or Positively Fourth Street in that its author isn’t just hurling bitter accusations, he’s writhing in agony: “I haven’t known peace and quiet for so long I can’t remember what it’s like.” The end result is extraordinary, harrowing listening.\n",
    "                    \n",
    "</p><div id=\"RIL_VIDEO_13\" class=\"body RIL_video video_type_1\"><object align=\"middle\"><param value=\"//www.youtube.com/v/Ex05XUddWMk\" name=\"movie\"><param value=\"transparent\" name=\"wmode\"><embed wmode=\"transparent\" type=\"application/x-shockwave-flash\" src=\"//www.youtube.com/v/Ex05XUddWMk\"></object></div><h2 class=\"body title\">2 Visions of Johanna (1966)</h2><p class=\"body\">\n",
    "    \n",
    "                        Like a Rolling Stone may have been more revolutionary, but Visions of Johanna has a strong claim to be Dylan’s greatest song, a parade of luminous symbolism that manages to be both mystifying and incredibly potent (“The ghost of electricity howls through the bones of her face”). His Nashville backing band, meanwhile, sounds perfect: subtle but insistent, the small-hours setting of the lyrics seeping into the sound.\n",
    "                    \n",
    "</p><h2 class=\"body title\">1. Like a Rolling Stone (1965)</h2><p class=\"body\">\n",
    "    \n",
    "                        Let it be known that ranking Bob Dylan’s 50 best songs is not a relaxing diversion to pass one’s lockdown time. It’s a supremely frustrating exercise that can only end with you looking agog at the songs you have left out, your face crumpling into a WTF? expression. As for No 1, sometimes you have to bow to the inevitable. In its author’s own words, Like a Rolling Stone changed it all: six minutes of “steady hatred”, its chorus melody loosely based on Ritchie Valens’ La Bamba, its musicians – as writer Greil Marcus has pointed out – just clinging on to the song by their fingernails, it was a boundary-breaking single that permanently altered the face of music. <a href=\"https://www.theguardian.com/books/2005/may/28/highereducation.news\">Entire books </a>have been written about it, unravelling meanings from its dense lyrics, but Marcus’s point is key: along with the sheer venom of Dylan’s delivery, it’s the sense that the journey into uncharted territory is permanently on the brink of collapse that makes it so eternally thrilling.\n",
    "                    \n",
    "</p><div id=\"RIL_VIDEO_14\" class=\"body RIL_video video_type_1\"><object align=\"middle\"><param value=\"//www.youtube.com/v/IwOfCgkyEj0\" name=\"movie\"><param value=\"transparent\" name=\"wmode\"><embed wmode=\"transparent\" type=\"application/x-shockwave-flash\" src=\"//www.youtube.com/v/IwOfCgkyEj0\"></object></div><p data-reactroot=\"\" class=\"body\"></p><div class=\"index-page-header__description\"><p><i>Alexis Petridis is the Guardian's head rock and pop critic.</i></p></div></section></div></div>\n",
    "\"\"\"\n"
   ]
  },
  {
   "cell_type": "code",
   "execution_count": 2,
   "metadata": {},
   "outputs": [],
   "source": [
    "from bs4 import BeautifulSoup"
   ]
  },
  {
   "cell_type": "code",
   "execution_count": 3,
   "metadata": {},
   "outputs": [],
   "source": [
    "import rdflib"
   ]
  },
  {
   "cell_type": "code",
   "execution_count": 4,
   "metadata": {},
   "outputs": [
    {
     "data": {
      "text/plain": [
       "'4.2.2'"
      ]
     },
     "execution_count": 4,
     "metadata": {},
     "output_type": "execute_result"
    }
   ],
   "source": [
    "rdflib.__version__"
   ]
  },
  {
   "cell_type": "code",
   "execution_count": 5,
   "metadata": {},
   "outputs": [],
   "source": [
    "top_50_soup = BeautifulSoup(top_50_raw)"
   ]
  },
  {
   "cell_type": "code",
   "execution_count": 6,
   "metadata": {},
   "outputs": [
    {
     "data": {
      "text/plain": [
       "<html><body><div><div class=\"rph6o54\"><section class=\"ch4les4\"><style>* { box-sizing: border-box; } body {margin: 0;}*{box-sizing:border-box;}body{margin-top:0px;margin-right:0px;margin-bottom:0px;margin-left:0px;}.description{font-size:17.6px;}</style><div class=\"body story-image\" data-reactroot=\"\"><img alt=\"GettyImages-74261569.jpg\" src=\"https://pocket-syndicated-images.s3.amazonaws.com/5e971ba5736f0.jpg\"/><p class=\"description\"><span class=\"caption\"><span class=\"caption-space\"> </span> <span class=\"caption-content\"><i>Bob Dylan plays piano with a harmonica around his neck while recording the album 'Highway 61 Revisited' at Columbia's Studio A during the summer of 1965 in New York City. Photo by Michael Ochs Archives / Getty Images</i>.</span></span></p></div><h2 class=\"body title\">50. Changing of the Guards (1978)</h2><p class=\"body\">\n",
       "    \n",
       "                        Street Legal delivered fans a shock: Dylan fronting a large band, with female backing singers to the fore. The words, meanwhile, might well represent an oblique personal history, from adolescence through marriage to religious conversion: whatever they were about, they reduced Patti Smith to tears on first hearing.\n",
       "                    \n",
       "</p><h2 class=\"body title\">49. This Wheel’s on Fire (1967)</h2><p class=\"body\">\n",
       "    \n",
       "                        Subsequently covered by everyone from <a href=\"https://www.youtube.com/watch?v=EAJH2T_v2RY\">Siouxsie and the Banshees</a> to <a href=\"https://www.youtube.com/watch?v=8GEl78He2Kg\">Kylie Minogue</a>, in every style from psychedelic to electro-glam stomp, the original Basement Tapes recording of This Wheel’s on Fire – both a great song and another of Dylan’s umpteen apocalyptic visions – has a uniquely intense, eerie quality that no one else has subsequently matched.\n",
       "                    \n",
       "</p><h2 class=\"body title\">48. Pay in Blood (2012)</h2><p class=\"body\">\n",
       "    \n",
       "                        Should you wonder if Dylan’s capacity for rage had been dulled by his advancing years, listen to Pay in Blood, a gentle musical backdrop for an expression of literally murderous fury: at first he’s so angry that the lyrics are incomprehensible, his voice just a phlegmy snarling noise; when they come into focus, he’s demanding vengeance on bankers and politicians “pumping out [their] piss”. Bracing.\n",
       "                    \n",
       "</p><h2 class=\"body title\">47. My Back Pages (1964)</h2><p class=\"body\">\n",
       "    \n",
       "                        Those upset when Dylan went electric couldn’t say he didn’t warn them <em>something</em> big was coming: My Back Pages spends the best part of five minutes not repudiating his protest singer past, but bidding the kind of certainties that fuelled it (“lies that life is black and white”) a sardonic farewell.\n",
       "                    \n",
       "</p><div class=\"body RIL_video video_type_1\" id=\"RIL_VIDEO_1\"><object align=\"middle\"><param name=\"movie\" value=\"//www.youtube.com/v/9ItmlGRB718\"/><param name=\"wmode\" value=\"transparent\"/><embed src=\"//www.youtube.com/v/9ItmlGRB718\" type=\"application/x-shockwave-flash\" wmode=\"transparent\"/></object></div><h2 class=\"body title\">46. Make You Feel My Love (1997)</h2><p class=\"body\">\n",
       "    \n",
       "                        No recent Dylan song has become as ubiquitous as Make You Feel My Love, its status as a modern standard largely down to <a href=\"https://www.youtube.com/watch?v=0put0_a--Ng\">Adele’s cover version</a>. The original is noticeably darker in tone, largely because it’s sung by Dylan in his fearsome latter-day rasp, but its powerful cocktail of beautifully direct lyrics and indelible melody are irresistible.\n",
       "                    \n",
       "</p><h2 class=\"body title\">45. Went to See the Gypsy (1970)</h2><p class=\"body\">\n",
       "    \n",
       "                        This fabulous (perhaps imaginary) account of meeting Elvis casts Dylan in the unlikely role of awestruck fan and imbues Presley with mystical powers (“he can … drive you from your fear, bring you through the mirror”) capable of restoring another artist’s creativity: following their meeting, Dylan has “music in [his] ears”.\n",
       "                    \n",
       "</p><h2 class=\"body title\">44. Blowin’ in the Wind (1963)</h2><p class=\"body\">\n",
       "    \n",
       "                        Apparently written in a matter of minutes, its melody borrowed from <a href=\"https://www.youtube.com/watch?v=lqQBc76Abj0\">No More Auction Block</a> – a civil war-era spiritual performed by Dylan and Odetta – Blowin’ in the Wind may be Dylan’s most famous protest song precisely because, as he pointed out, it’s not a protest song: it deals in universalities rather than specifics, making it infinitely adaptable.\n",
       "                    \n",
       "</p><h2 class=\"body title\">43. Ain’t Talkin’ (2006)</h2><p class=\"body\">\n",
       "    \n",
       "                        The conclusion of Modern Times brought more brooding horror – violence, plague, unending suffering – with an opening line that made it sound like an old folk ballad (“as I walked out …”) and a twist that the song’s protagonist isn’t just a dismayed observer, but potentially something much worse: his heart occupied by “an evil spirit”, he ends the song confronting a lone woman.\n",
       "                    \n",
       "</p><h2 class=\"body title\">42. One Too Many Mornings (1964)</h2><p class=\"body\">\n",
       "    \n",
       "                        A respite from the firebrand finger-pointing that comprises much of The Times They Are A-Changing, the moving One Too Many Mornings finds Dylan reflecting on the complex end of his relationship with <a href=\"https://www.theguardian.com/music/2011/feb/28/suze-rotolo-obituary\">Suze Rotolo</a>: “It’s a restless hungry feeling that don’t mean no one no good/When everything I’m saying, you can say it just as good”.\n",
       "                    \n",
       "</p><h2 class=\"body title\">41. Forever Young (1974)</h2><p class=\"body\">\n",
       "    \n",
       "                        Written “in a minute”, there’s a strong argument that the best version of Dylan’s universal description of the emotions of fatherhood is the original demo: the reason he eventually allowed a lo-fi and incomplete recording to be released is that there is a rawness and emotional punch to it that the two takes on 1974’s Planet Waves never quite match.\n",
       "                    \n",
       "</p><h2 class=\"body title\">40. Jokerman (1983)</h2><p class=\"body\">\n",
       "    \n",
       "                        The Mark Knopfler-produced Infidels divided critical opinion, but everyone seemed to agree its opening track was great – a complex lyric underpinned with Sly and Robbie’s subtle reggae rhythm. The best version, however, is the scorching one Dylan performed on David Letterman’s TV show with new wave band the Plugz, a tantalising glimpse of an alternative route through the 80s he chose not to take.\n",
       "                    \n",
       "</p><div class=\"body RIL_video video_type_1\" id=\"RIL_VIDEO_2\"><object align=\"middle\"><param name=\"movie\" value=\"//www.youtube.com/v/nP85Uc6H79U\"/><param name=\"wmode\" value=\"transparent\"/><embed src=\"//www.youtube.com/v/nP85Uc6H79U\" type=\"application/x-shockwave-flash\" wmode=\"transparent\"/></object></div><h2 class=\"body title\">39. The Times They Are A-Changin’ (1964)</h2><p class=\"body\">\n",
       "    \n",
       "                        The title track of Dylan’s third album was genuinely incendiary, a call to action that is more about identifying a generational divide that would turn into a gulf as the 60s progressed than any specific cause: “Come mothers and fathers throughout the land, and don’t criticise what you can’t understand.”\n",
       "                    \n",
       "</p><h2 class=\"body title\">38. Love Minus Zero/No Limit (1965)</h2><p class=\"body\">\n",
       "    \n",
       "                        “That wasn’t like any pop music I’ve heard,” offered one dissenting voice amid the disappointed folkies interviewed after a 1966 Sheffield Dylan gig. The dissenter had a point: that Dylan was reshaping pop in his own image is underlined by Love Minus Zero/No Limit, a gorgeously tuneful love song with lyrics richer than any previous love song.\n",
       "                    \n",
       "</p><h2 class=\"body title\">37. If Not For You (1970)</h2><p class=\"body\">\n",
       "    \n",
       "                        More appealing than his hit anthem of husbandly devotion, Lay Lady Lay, If Not For You offers nothing to unravel, no mystery, nothing you could write an extended literary essay about, just directness and emotional connection. It is, to use a phrase not often appended to Dylan’s work, catchy.\n",
       "                    \n",
       "</p><div class=\"body RIL_video video_type_1\" id=\"RIL_VIDEO_3\"><object align=\"middle\"><param name=\"movie\" value=\"//www.youtube.com/v/yyouhbgAiCA\"/><param name=\"wmode\" value=\"transparent\"/><embed src=\"//www.youtube.com/v/yyouhbgAiCA\" type=\"application/x-shockwave-flash\" wmode=\"transparent\"/></object></div><h2 class=\"body title\">36. Knockin’ on Heaven’s Door (1973)</h2><p class=\"body\">\n",
       "    \n",
       "                        Knockin’ on Heaven’s Door’s elevation to all-purpose air-punching rock anthem – most notably in <a href=\"https://www.youtube.com/watch?v=f8OHybVhQwc\">Guns N’ Roses’ preposterously overwrought cover</a> – was perhaps to be expected given its chorus, but there’s a sense the song itself gets trampled in the process: you are better off with the simplicity and haunted, echoey ambience of Dylan’s original.\n",
       "                    \n",
       "</p><h2 class=\"body title\">35. Slow Train (1979)</h2><p class=\"body\">\n",
       "    \n",
       "                        A complicated business: the most controversial of Dylan’s born again songs – occasionally, the lyrics sail perilously close to rightwing religious fundamentalism – also happens to be the best. There’s a tautness to the music that undercuts the slick production, real drama and conviction in the vocal delivery that shifts from rage to a kind of joy at the coming of judgment day.\n",
       "                    \n",
       "</p><h2 class=\"body title\">34. Brownsville Girl (1986)</h2><p class=\"body\">\n",
       "    \n",
       "                        The largely rotten Knocked Out Loaded suggested Dylan was in trouble. Yet he could, occasionally, come up with the goods: co-written with playwright <a href=\"https://www.theguardian.com/stage/2017/aug/01/sam-shepard-obituary\">Sam Shepard</a>, Brownsville Girl offers 17 weirdly conversational sung-spoken verses that ruminate on everything from his ongoing writer’s block to Gregory Peck, and which include a poignant Dylan aphorism: “People who suffer together have stronger connections than people who are most content.”\n",
       "                    \n",
       "</p><h2 class=\"body title\">33. Murder Most Foul (2020)</h2><p class=\"body\">\n",
       "    \n",
       "                        Dylan’s longest song <a href=\"https://www.theguardian.com/music/2020/mar/27/bob-dylan-murder-most-foul-review-jfk-assassination-john-f-kennedy\">appeared without warning</a>, in the midst of the coronavirus lockdown. Its meditation on the death of JFK, packed with enough cultural references to keep fans busy until restrictions are lifted, was more of a recitation set to music than a song, unlike anything he had previously recorded: evidence that, nearing 80, the old boy keeps pushing forward.\n",
       "                    \n",
       "</p><h2 class=\"body title\">32. It’s All Over Now Baby Blue (1965)</h2><p class=\"body\">\n",
       "    \n",
       "                        Bringing It All Back Home ended with a song in the vein of Another Side’s finale, It Ain’t Me Babe. Once again, it isn’t entirely clear whether Dylan is bidding farewell to a lover or the chunk of his fanbase who wanted him to stay as he was. Either way, it ends with a robust memo-to-self: “Strike another match, go start anew”.\n",
       "                    \n",
       "</p><div class=\"body RIL_video video_type_1\" id=\"RIL_VIDEO_4\"><object align=\"middle\"><param name=\"movie\" value=\"//www.youtube.com/v/L4HW33SgZlM\"/><param name=\"wmode\" value=\"transparent\"/><embed src=\"//www.youtube.com/v/L4HW33SgZlM\" type=\"application/x-shockwave-flash\" wmode=\"transparent\"/></object></div><h2 class=\"body title\">31. Isis (1976)</h2><p class=\"body\">\n",
       "    \n",
       "                        There’s a theory that the chorus-free Isis tells the allegorical story of Dylan’s attempts to patch up his marriage (“what drives me to you,” he glumly suggests, “is what drives me insane”), but whatever it’s about, it’s amazingly forceful, its travelogue driven relentlessly forward by Scarlet Rivera’s violin and the power of Dylan’s vocal.\n",
       "                    \n",
       "</p><h2 class=\"body title\">30. High Water (For Charlie Patton) (2001)</h2><p class=\"body\">\n",
       "    \n",
       "                        The highlight of Love and Theft feels like a distant relation to 1983’s Blind Willie McTell – another powerful travelogue inspired by a legendary bluesman, its refrain taken from Patton’s High Water Everywhere – although the tone is noticeably more ominous, the odd flash of humour (“jump into the wagon, love, throw your panties overboard”) deeply incongruous.\n",
       "                    \n",
       "</p><h2 class=\"body title\">29. Don’t Think Twice It’s Alright (1963)</h2><p class=\"body\">\n",
       "    \n",
       "                        Ironically, Dylan’s paean to Suze Rotolo – away in Italy when he devised its perfectly-done balance of tenderness and acrimony – helped end their relationship for good: when Rotolo heard Joan Baez introduce it onstage as a song “about a love affair that has lasted too long”, it prompted her to leave him.\n",
       "                    \n",
       "</p><h2 class=\"body title\">28. All Along the Watchtower (1967)</h2><p class=\"body\">\n",
       "    \n",
       "                        Dylan thought <a href=\"https://www.youtube.com/watch?v=TLV4_xaYynY\">Jimi Hendrix’s cover of All Along the Watchtower</a> was so definitive that he subsequently started playing it live in Hendrix’s style. But there’s a lot to be said for Dylan’s humble original, its brevity and starkness capturing the same end-times intensity in a different way.\n",
       "                    \n",
       "</p><h2 class=\"body title\">27. Most of the Time (1989)</h2><p class=\"body\">\n",
       "    \n",
       "                        Most of the Time both demonstrates how much producer Daniel Lanois had to do with Dylan’s best 80s album Oh Mercy – the sound is rich, shimmering and atmospheric – and how Dylan himself had recovered from an artistic slump: the lyrical drawing of the emotional fallout from a failed relationship is both sharp and sensitive, his delivery perfectly judged.\n",
       "                    \n",
       "</p><div class=\"body RIL_video video_type_1\" id=\"RIL_VIDEO_5\"><object align=\"middle\"><param name=\"movie\" value=\"//www.youtube.com/v/SQbr4ISrjII\"/><param name=\"wmode\" value=\"transparent\"/><embed src=\"//www.youtube.com/v/SQbr4ISrjII\" type=\"application/x-shockwave-flash\" wmode=\"transparent\"/></object></div><h2 class=\"body title\">26. I Want You (1966)</h2><p class=\"body\">\n",
       "    \n",
       "                        The last song recorded for Blonde on Blonde features a parade of intriguing characters – the “dancing child” is supposedly Rolling Stone Brian Jones – but, by the standards of Dylan’s songwriting at the time, it’s straightforward: a buoyant, utterly charming declaration of love on which his Nashville band once more prove their worth. The guitar playing in particular is a joy.\n",
       "                    \n",
       "</p><h2 class=\"body title\">25. Simple Twist of Fate (1975)</h2><p class=\"body\">\n",
       "    \n",
       "                        Dylan professed to be horrified that people liked Blood on the Tracks (“enjoying that kind of pain,” he complained). But regardless of<a href=\"https://www.theguardian.com/music/2018/oct/28/bob-dylan-more-blood-more-tracks-raw-painful-birth\"> its backstory</a>, who couldn’t love Simple Twist of Fate? Genius at full throttle, it’s got everything – a naggingly infectious melody, an impassioned vocal and incredible lyrics that depict his marriage collapsing in the third person.\n",
       "                    \n",
       "</p><h2 class=\"body title\">24. Hurricane (1976)</h2><p class=\"body\">\n",
       "    \n",
       "                        The plight of imprisoned boxer Reuben Carter drove Dylan back to writing protest songs: Hurricane is as detailed, hard-hitting and journalistic as The Lonesome Death of Hattie Carroll. There’s a real tension between his snarling voice and the song’s appealing melody, a shattering force about its lyrics: “If you’re black you might as well not show up on the street, unless you wanna draw the heat”.\n",
       "                    \n",
       "</p><div class=\"body RIL_video video_type_1\" id=\"RIL_VIDEO_6\"><object align=\"middle\"><param name=\"movie\" value=\"//www.youtube.com/v/bpZvg_FjL3Q\"/><param name=\"wmode\" value=\"transparent\"/><embed src=\"//www.youtube.com/v/bpZvg_FjL3Q\" type=\"application/x-shockwave-flash\" wmode=\"transparent\"/></object></div><h2 class=\"body title\">23. I Shall Be Released (1967)</h2><p class=\"body\">\n",
       "    \n",
       "                        Among the most-covered of Dylan’s songs (<a href=\"https://www.youtube.com/watch?v=IgM4yK8ih_w\">even the Beatles had a crack at it</a>) I Shall Be Released ended up a rousing singalong protest anthem, but it’s the original, largely unadorned version on The Basement Tapes Raw that best captures its real power: a hymn-like song not about literal imprisonment but transcending physical existence.\n",
       "                    \n",
       "</p><h2 class=\"body title\">22. Chimes of Freedom (1964)</h2><p class=\"body\">\n",
       "    \n",
       "                        The title makes Chimes of Freedom sound like a protest song, but it’s something else entirely, a vivid, poetic recounting of a storm (“the sky cracked its poems in naked wonder … the rain unravelled tales”) that seems to have provoked an epiphany in its author: a dazzling signpost to where Dylan was headed.\n",
       "                    \n",
       "</p><h2 class=\"body title\">21. I Threw It All Away (1969)</h2><p class=\"body\">\n",
       "    \n",
       "                        Nashville Skyline’s greatest song. Exceptionally beautiful, incredibly sad and the antithesis of the Dylan of three years prior – his voice doesn’t even sound like his own – I Threw It All Away is uncluttered, straightforward, fluid: its beauty comes from its simplicity rather than its density.\n",
       "                    \n",
       "</p><h2 class=\"body title\">20. A Hard Rain’s A Gonna Fall (1963)</h2><p class=\"body\">\n",
       "    \n",
       "                        In response to the Cuban missile crisis, A Hard Rain’s A-Gonna Fall “roared right out the typewriter” in the words of a friend who watched Dylan write it. Furthermore, he recorded it in one take: a torrent of apocalyptic imagery so potent it long outlived the moment it was supposed to soundtrack.\n",
       "                    \n",
       "</p><div class=\"body RIL_video video_type_1\" id=\"RIL_VIDEO_7\"><object align=\"middle\"><param name=\"movie\" value=\"//www.youtube.com/v/T5al0HmR4to\"/><param name=\"wmode\" value=\"transparent\"/><embed src=\"//www.youtube.com/v/T5al0HmR4to\" type=\"application/x-shockwave-flash\" wmode=\"transparent\"/></object></div><h2 class=\"body title\">19. The Groom’s Still Waiting at the Altar (1981)</h2><p class=\"body\">\n",
       "    \n",
       "                        Dylan’s 80s were marked by some weird decisions about album track listings, which begin here: what possessed him to leave this ferocious slice of blues-rock off Shot of Love? It’s superb, its edge-of-chaos rowdiness and sheer passion in his vocal making it a counterpart to the music on Highway 61 Revisited.\n",
       "                    \n",
       "</p><h2 class=\"body title\">18. Mr Tambourine Man (1965)</h2><p class=\"body\">\n",
       "    \n",
       "                        A leftover from Another Side of <a href=\"https://www.theguardian.com/music/bobdylan\">Bob Dylan</a> that signposted his future even more dramatically than Chimes of Freedom, Mr Tambourine Man’s tumble of free-associating imagery immediately got it pegged as a drug song, but it’s more about the act of writing itself, a joyous paean to the moment the muse takes over.\n",
       "                    \n",
       "</p><h2 class=\"body title\">17. Ballad of a Thin Man (1965)</h2><p class=\"body\">\n",
       "    \n",
       "                        No character in a Dylan song has inspired so much conjecture as Ballad of a Thin Man’s poor old Mr Jones: who on earth could have inspired such an unrelenting outpouring of bile? Perhaps it doesn’t matter: better not to worry about the subject and just luxuriate – if that’s the word – in its doom-laden sound and the fizzing intensity of Dylan’s delivery.\n",
       "                    \n",
       "</p><div class=\"body RIL_video video_type_1\" id=\"RIL_VIDEO_8\"><object align=\"middle\"><param name=\"movie\" value=\"//www.youtube.com/v/we37yX3zpKA\"/><param name=\"wmode\" value=\"transparent\"/><embed src=\"//www.youtube.com/v/we37yX3zpKA\" type=\"application/x-shockwave-flash\" wmode=\"transparent\"/></object></div><h2 class=\"body title\">16. One of Us Must Know (Sooner Or Later) (1966)</h2><p class=\"body\">\n",
       "    \n",
       "                        A postmatch analysis of a love affair gone wrong, One of Us Must Know is the negative image of the “nasty” songs in which Dylan had come to specialise: he sounds apologetic (at least most of the time) rather than apoplectic; its fantastic chorus, driven by Al Kooper’s organ, feels somewhere between a surge of energy and a sigh.\n",
       "                    \n",
       "</p><h2 class=\"body title\">15. It’s Alright Ma (I’m Only Bleeding) (1965)</h2><p class=\"body\">\n",
       "    \n",
       "                        A song containing a plethora of justly celebrated Dylan aphorisms – “He not busy being born is busy dying” is perhaps the greatest – It’s Alright Ma (I’m Only Bleeding) is a gripping, furious explosion of apocalyptic imagery that posits the timeless theory that politicians and the media offer a false sense of reality.\n",
       "                    \n",
       "</p><h2 class=\"body title\">14. Things Have Changed (1997)</h2><p class=\"body\">\n",
       "    \n",
       "                        Dylan’s superb, Oscar-winning contribution to the soundtrack of <a href=\"https://www.youtube.com/watch?v=sveK_fhIqhs\">Wonder Boys</a> finds him – not for the first or last time – casting a jaundiced eye over a world he feels out of step with, its insistent, shuffling music a backdrop for a series of vibrant portents of impending doom, all dismissed with a grouchy shrug: “I used to care but things have changed.”\n",
       "                    \n",
       "</p><h2 class=\"body title\">13. The Lonesome Death of Hattie Carroll (1964)</h2><p class=\"body\">\n",
       "    \n",
       "                        Arguably the most powerful of all Dylan’s protest songs, Hattie Carroll occasionally plays fast and loose with the facts of the racist murder it describes, but its combination of journalistic reportage and poetic technique is astonishing: the fact that it’s measured, unhysterical and unsentimental in tone makes it all the more impactful.\n",
       "                    \n",
       "</p><div class=\"body RIL_video video_type_1\" id=\"RIL_VIDEO_9\"><object align=\"middle\"><param name=\"movie\" value=\"//www.youtube.com/v/t_v3w30XdhI\"/><param name=\"wmode\" value=\"transparent\"/><embed src=\"//www.youtube.com/v/t_v3w30XdhI\" type=\"application/x-shockwave-flash\" wmode=\"transparent\"/></object></div><h2 class=\"body title\">12. Tangled Up in Blue (1975)</h2><p class=\"body\">\n",
       "    \n",
       "                        You could include anything or everything from Blood on the Tracks in a list such as this: spurred by the failure of his marriage, his muse was working overtime, as evidenced by its astonishing opening track, a fragmentary, unreliably narrated recollection of a failed relationship that shifts erratically from one scene to another, like a dream.\n",
       "                    \n",
       "</p><h2 class=\"body title\">11. Girl From the North Country (1963)</h2><p class=\"body\">\n",
       "    \n",
       "                        Perhaps the loveliest of Dylan’s early love songs, Girl From the North County is a remembrance of an old girlfriend – exactly which one is the subject of a quite insane level of debate – suffused with nostalgia and regret, on which the starkness of The Freewheelin’ Bob Dylan’s sound is transformed into hushed, small-hours reflection.\n",
       "                    \n",
       "</p><div class=\"body RIL_video video_type_1\" id=\"RIL_VIDEO_10\"><object align=\"middle\"><param name=\"movie\" value=\"//www.youtube.com/v/n2R3gHRlZf8\"/><param name=\"wmode\" value=\"transparent\"/><embed src=\"//www.youtube.com/v/n2R3gHRlZf8\" type=\"application/x-shockwave-flash\" wmode=\"transparent\"/></object></div><h2 class=\"body title\">10. It Ain’t Me Babe (1964)</h2><p class=\"body\">\n",
       "    \n",
       "                        In which another kiss-off to Suze Rotolo – who frankly receives a bit of a raw deal in the lyrics – gets mixed up with Dylan waving his voice of a generation tag goodbye. It’s unclear throughout whether he is addressing his ex or his audience, although the fact it concludes his last acoustic album lends strength to the latter interpretation.\n",
       "                    \n",
       "</p><h2 class=\"body title\">9. Sad Eyed Lady of the Lowlands (1966)</h2><p class=\"body\">\n",
       "    \n",
       "                        Dylan considered Sad Eyed Lady important enough to devote a whole side of rock’s first double album to it, as if it needed to stand alone. He subsequently couldn’t decide if it was an 11-minute masterpiece, or him “just [getting] carried away”: listening to its understated sound, cyclical melody and devotional lyrics, it’s hard not to cleave to the former interpretation.\n",
       "                    \n",
       "</p><h2 class=\"body title\">8. Not Dark Yet (1997)</h2><p class=\"body\">\n",
       "    \n",
       "                        The sound of a 56-year-old man facing up to mortality, Not Dark Yet developed a chilling prescience when its author nearly died of pericarditis before it was released. But Not Dark Yet doesn’t need a spooky backstory. It succeeds entirely on its own merits: gloomy, thoughtful and occasionally blackly comic, it was one reason why Time Out of Mind was acclaimed as a masterpiece.\n",
       "                    \n",
       "</p><div class=\"body RIL_video video_type_1\" id=\"RIL_VIDEO_11\"><object align=\"middle\"><param name=\"movie\" value=\"//www.youtube.com/v/5fGYWAVw2zg\"/><param name=\"wmode\" value=\"transparent\"/><embed src=\"//www.youtube.com/v/5fGYWAVw2zg\" type=\"application/x-shockwave-flash\" wmode=\"transparent\"/></object></div><h2 class=\"body title\">7. Positively Fourth Street (1965)</h2><p class=\"body\">\n",
       "    \n",
       "                        Boasting one of the great stop-you-in-your-tracks opening lines – “You’ve got a lot of nerve …” – Positively Fourth Street’s sneering excoriation of the Greenwich Village folk scene feels like eavesdropping on a particularly savage argument: so vicious you feel guilty for listening in, so compelling you can’t help yourself.\n",
       "                    \n",
       "</p><h2 class=\"body title\">6. Blind Willie McTell (1983)</h2><p class=\"body\">\n",
       "    \n",
       "                        Another track Dylan bafflingly discarded, this aching, vivid, unflinching acoustic conjuring of the old South the titular bluesman inhabited – equal parts beauty and injustice – was instantly and rightly acclaimed as one of his greatest songs when it finally appeared on the 1991 Bootleg Series Volumes 1-3 box set.\n",
       "                    \n",
       "</p><div class=\"body RIL_video video_type_1\" id=\"RIL_VIDEO_12\"><object align=\"middle\"><param name=\"movie\" value=\"//www.youtube.com/v/_uf5gi3E_rQ\"/><param name=\"wmode\" value=\"transparent\"/><embed src=\"//www.youtube.com/v/_uf5gi3E_rQ\" type=\"application/x-shockwave-flash\" wmode=\"transparent\"/></object></div><h2 class=\"body title\">5. Desolation Row (1965)</h2><p class=\"body\">\n",
       "    \n",
       "                        In the mid-60s Dylan complained that he had never written anything as “far out” as the strangest folk ballads, but on Desolation Row, he succeeded in taking the ballad form to a completely new place. It’s a cliche to compare it to TS Eliot’s The Waste Land, but it fits: 11 stark minutes of oppressive, absurd imagery that never slackens its grip on the listener despite its length.\n",
       "                    \n",
       "</p><h2 class=\"body title\">4. Subterranean Homesick Blues (1965)</h2><p class=\"body\">\n",
       "    \n",
       "                        Everyone knows that the release of Subterranean Homesick Blues was a pivotal moment in rock history. More startling is how explosive it still sounds, 55 years away from the furore about Dylan “going electric” and the emergent counterculture the song seemed to embody: the relentless staccato vocal barrage, the lyrical fireworks, the chaotic racket kicked up by the backing musicians. Endlessly imitated, never equalled.\n",
       "                    \n",
       "</p><h2 class=\"body title\">3. Idiot Wind (1975)</h2><p class=\"body\">\n",
       "    \n",
       "                        On one level an outpouring of fury to rival anything his amphetamine-fuelled younger self came up with, yet Idiot Wind differs from Ballad of a Thin Man or Positively Fourth Street in that its author isn’t just hurling bitter accusations, he’s writhing in agony: “I haven’t known peace and quiet for so long I can’t remember what it’s like.” The end result is extraordinary, harrowing listening.\n",
       "                    \n",
       "</p><div class=\"body RIL_video video_type_1\" id=\"RIL_VIDEO_13\"><object align=\"middle\"><param name=\"movie\" value=\"//www.youtube.com/v/Ex05XUddWMk\"/><param name=\"wmode\" value=\"transparent\"/><embed src=\"//www.youtube.com/v/Ex05XUddWMk\" type=\"application/x-shockwave-flash\" wmode=\"transparent\"/></object></div><h2 class=\"body title\">2 Visions of Johanna (1966)</h2><p class=\"body\">\n",
       "    \n",
       "                        Like a Rolling Stone may have been more revolutionary, but Visions of Johanna has a strong claim to be Dylan’s greatest song, a parade of luminous symbolism that manages to be both mystifying and incredibly potent (“The ghost of electricity howls through the bones of her face”). His Nashville backing band, meanwhile, sounds perfect: subtle but insistent, the small-hours setting of the lyrics seeping into the sound.\n",
       "                    \n",
       "</p><h2 class=\"body title\">1. Like a Rolling Stone (1965)</h2><p class=\"body\">\n",
       "    \n",
       "                        Let it be known that ranking Bob Dylan’s 50 best songs is not a relaxing diversion to pass one’s lockdown time. It’s a supremely frustrating exercise that can only end with you looking agog at the songs you have left out, your face crumpling into a WTF? expression. As for No 1, sometimes you have to bow to the inevitable. In its author’s own words, Like a Rolling Stone changed it all: six minutes of “steady hatred”, its chorus melody loosely based on Ritchie Valens’ La Bamba, its musicians – as writer Greil Marcus has pointed out – just clinging on to the song by their fingernails, it was a boundary-breaking single that permanently altered the face of music. <a href=\"https://www.theguardian.com/books/2005/may/28/highereducation.news\">Entire books </a>have been written about it, unravelling meanings from its dense lyrics, but Marcus’s point is key: along with the sheer venom of Dylan’s delivery, it’s the sense that the journey into uncharted territory is permanently on the brink of collapse that makes it so eternally thrilling.\n",
       "                    \n",
       "</p><div class=\"body RIL_video video_type_1\" id=\"RIL_VIDEO_14\"><object align=\"middle\"><param name=\"movie\" value=\"//www.youtube.com/v/IwOfCgkyEj0\"/><param name=\"wmode\" value=\"transparent\"/><embed src=\"//www.youtube.com/v/IwOfCgkyEj0\" type=\"application/x-shockwave-flash\" wmode=\"transparent\"/></object></div><p class=\"body\" data-reactroot=\"\"></p><div class=\"index-page-header__description\"><p><i>Alexis Petridis is the Guardian's head rock and pop critic.</i></p></div></section></div></div>\n",
       "</body></html>"
      ]
     },
     "execution_count": 6,
     "metadata": {},
     "output_type": "execute_result"
    }
   ],
   "source": [
    "top_50_soup.find_all(\"\"\"h2 class=\"\")"
   ]
  },
  {
   "cell_type": "code",
   "execution_count": 10,
   "metadata": {},
   "outputs": [],
   "source": [
    "titles = top_50_soup.find_all(\"h2\")"
   ]
  },
  {
   "cell_type": "code",
   "execution_count": 12,
   "metadata": {},
   "outputs": [
    {
     "data": {
      "text/plain": [
       "<h2 class=\"body title\">1. Like a Rolling Stone (1965)</h2>"
      ]
     },
     "execution_count": 12,
     "metadata": {},
     "output_type": "execute_result"
    }
   ],
   "source": [
    "titles[-1]"
   ]
  },
  {
   "cell_type": "code",
   "execution_count": 13,
   "metadata": {},
   "outputs": [],
   "source": [
    "import lxml.etree as etree"
   ]
  },
  {
   "cell_type": "code",
   "execution_count": 16,
   "metadata": {},
   "outputs": [],
   "source": [
    "rss = etree.XML(\"\"\"<rss xmlns=\"http://www.itunes.com/dtds/podcast-1.0.dtd\" />\"\"\")"
   ]
  },
  {
   "cell_type": "code",
   "execution_count": 15,
   "metadata": {},
   "outputs": [
    {
     "data": {
      "text/plain": [
       "<p class=\"body\">\n",
       "    \n",
       "                        Street Legal delivered fans a shock: Dylan fronting a large band, with female backing singers to the fore. The words, meanwhile, might well represent an oblique personal history, from adolescence through marriage to religious conversion: whatever they were about, they reduced Patti Smith to tears on first hearing.\n",
       "                    \n",
       "</p>"
      ]
     },
     "execution_count": 15,
     "metadata": {},
     "output_type": "execute_result"
    }
   ],
   "source": [
    "titles[0].next_sibling    \n",
    "    "
   ]
  },
  {
   "cell_type": "raw",
   "metadata": {},
   "source": [
    "dir(rss)"
   ]
  },
  {
   "cell_type": "code",
   "execution_count": 17,
   "metadata": {},
   "outputs": [],
   "source": [
    "channel = etree.SubElement(rss, \"channel\")"
   ]
  },
  {
   "cell_type": "code",
   "execution_count": 18,
   "metadata": {},
   "outputs": [
    {
     "data": {
      "text/plain": [
       "<Element channel at 0x7fe51fa28980>"
      ]
     },
     "execution_count": 18,
     "metadata": {},
     "output_type": "execute_result"
    }
   ],
   "source": [
    "channel"
   ]
  },
  {
   "cell_type": "code",
   "execution_count": 19,
   "metadata": {},
   "outputs": [
    {
     "data": {
      "text/plain": [
       "<Element {http://www.itunes.com/dtds/podcast-1.0.dtd}rss at 0x7fe51fa409c0>"
      ]
     },
     "execution_count": 19,
     "metadata": {},
     "output_type": "execute_result"
    }
   ],
   "source": [
    "rss"
   ]
  },
  {
   "cell_type": "code",
   "execution_count": 20,
   "metadata": {},
   "outputs": [
    {
     "data": {
      "text/plain": [
       "b'<rss xmlns=\"http://www.itunes.com/dtds/podcast-1.0.dtd\"><channel/></rss>'"
      ]
     },
     "execution_count": 20,
     "metadata": {},
     "output_type": "execute_result"
    }
   ],
   "source": [
    "etree.tostring(rss)"
   ]
  },
  {
   "cell_type": "code",
   "execution_count": 21,
   "metadata": {},
   "outputs": [],
   "source": [
    "article_title = etree.SubElement(channel, \"title\")"
   ]
  },
  {
   "cell_type": "code",
   "execution_count": 22,
   "metadata": {},
   "outputs": [],
   "source": [
    "article_title.text = \"Bob Dylan's 50 Greatest Songs - Ranked\""
   ]
  },
  {
   "cell_type": "code",
   "execution_count": 23,
   "metadata": {},
   "outputs": [],
   "source": [
    "article_description = etree.SubElement(channel, \"description\")"
   ]
  },
  {
   "cell_type": "code",
   "execution_count": 24,
   "metadata": {},
   "outputs": [],
   "source": [
    "article_description.text = \"\"\"As fans puzzle out the epic “Murder Most Foul,” we count down the best of Bob, from the fury of “Pay in Blood” to the pure genius of “Simple Twist of Fate.”\"\"\""
   ]
  },
  {
   "cell_type": "code",
   "execution_count": 25,
   "metadata": {},
   "outputs": [
    {
     "data": {
      "text/plain": [
       "b'<rss xmlns=\"http://www.itunes.com/dtds/podcast-1.0.dtd\"><channel><title>Bob Dylan\\'s 50 Greatest Songs - Ranked</title><description>As fans puzzle out the epic &#8220;Murder Most Foul,&#8221; we count down the best of Bob, from the fury of &#8220;Pay in Blood&#8221; to the pure genius of &#8220;Simple Twist of Fate.&#8221;</description></channel></rss>'"
      ]
     },
     "execution_count": 25,
     "metadata": {},
     "output_type": "execute_result"
    }
   ],
   "source": [
    "etree.tostring(rss)"
   ]
  },
  {
   "cell_type": "code",
   "execution_count": 26,
   "metadata": {},
   "outputs": [],
   "source": [
    "url = etree.SubElement(channel, \"url\")"
   ]
  },
  {
   "cell_type": "code",
   "execution_count": 27,
   "metadata": {},
   "outputs": [],
   "source": [
    "url.text = \"https://getpocket.com/explore/item/bob-dylan-s-50-greatest-songs-ranked?utm_source=pocket-newtab\""
   ]
  },
  {
   "cell_type": "code",
   "execution_count": 28,
   "metadata": {},
   "outputs": [
    {
     "data": {
      "text/plain": [
       "'\\n    \\n                        Street Legal delivered fans a shock: Dylan fronting a large band, with female backing singers to the fore. The words, meanwhile, might well represent an oblique personal history, from adolescence through marriage to religious conversion: whatever they were about, they reduced Patti Smith to tears on first hearing.\\n                    \\n'"
      ]
     },
     "execution_count": 28,
     "metadata": {},
     "output_type": "execute_result"
    }
   ],
   "source": [
    "titles[0].next_sibling.text"
   ]
  },
  {
   "cell_type": "code",
   "execution_count": 29,
   "metadata": {},
   "outputs": [
    {
     "data": {
      "text/plain": [
       "'50. Changing of the Guards (1978)'"
      ]
     },
     "execution_count": 29,
     "metadata": {},
     "output_type": "execute_result"
    }
   ],
   "source": [
    "titles[0].text"
   ]
  },
  {
   "cell_type": "code",
   "execution_count": 30,
   "metadata": {},
   "outputs": [
    {
     "name": "stdin",
     "output_type": "stream",
     "text": [
      "Song? Hope\n"
     ]
    }
   ],
   "source": [
    "song_path = input(\"Song?\")\n"
   ]
  },
  {
   "cell_type": "code",
   "execution_count": 35,
   "metadata": {},
   "outputs": [],
   "source": [
    "def create_item(h2):\n",
    "    item = etree.SubElement(channel, \"item\")\n",
    "    title = etree.SubElement(item, \"title\")\n",
    "    title.text = h2.text\n",
    "    description = etree.SubElement(item, \"description\")\n",
    "    description.text = h2.next_sibling.text.strip()\n",
    "    mp3_name = input(f\"mp3 path for {h2.text}\")\n",
    "    enclosure = etree.SubElement(item,\n",
    "                                 \"enclosure\",\n",
    "                                 type=\"audio/mp3\", \n",
    "                                 url=f\"/dylan_songs/{mp3_name}\")"
   ]
  },
  {
   "cell_type": "code",
   "execution_count": 33,
   "metadata": {},
   "outputs": [
    {
     "name": "stdin",
     "output_type": "stream",
     "text": [
      "mp3 path for 50. Changing of the Guards (1978) changing-of-the-guards.mp3\n"
     ]
    },
    {
     "ename": "TypeError",
     "evalue": "SubElement() takes at least 2 positional arguments (1 given)",
     "output_type": "error",
     "traceback": [
      "\u001b[0;31m---------------------------------------------------------------------------\u001b[0m",
      "\u001b[0;31mTypeError\u001b[0m                                 Traceback (most recent call last)",
      "\u001b[0;32m<ipython-input-33-538c3e23da27>\u001b[0m in \u001b[0;36m<module>\u001b[0;34m\u001b[0m\n\u001b[0;32m----> 1\u001b[0;31m \u001b[0mcreate_item\u001b[0m\u001b[0;34m(\u001b[0m\u001b[0mtitles\u001b[0m\u001b[0;34m[\u001b[0m\u001b[0;36m0\u001b[0m\u001b[0;34m]\u001b[0m\u001b[0;34m)\u001b[0m\u001b[0;34m\u001b[0m\u001b[0;34m\u001b[0m\u001b[0m\n\u001b[0m",
      "\u001b[0;32m<ipython-input-32-a06021d6f434>\u001b[0m in \u001b[0;36mcreate_item\u001b[0;34m(h2)\u001b[0m\n\u001b[1;32m      6\u001b[0m     \u001b[0mdescription\u001b[0m\u001b[0;34m.\u001b[0m\u001b[0mtext\u001b[0m \u001b[0;34m=\u001b[0m \u001b[0mh2\u001b[0m\u001b[0;34m.\u001b[0m\u001b[0mnext_sibling\u001b[0m\u001b[0;34m.\u001b[0m\u001b[0mtext\u001b[0m\u001b[0;34m.\u001b[0m\u001b[0mstrip\u001b[0m\u001b[0;34m(\u001b[0m\u001b[0;34m)\u001b[0m\u001b[0;34m\u001b[0m\u001b[0;34m\u001b[0m\u001b[0m\n\u001b[1;32m      7\u001b[0m     \u001b[0mmp3_name\u001b[0m \u001b[0;34m=\u001b[0m \u001b[0minput\u001b[0m\u001b[0;34m(\u001b[0m\u001b[0;34mf\"mp3 path for {h2.text}\"\u001b[0m\u001b[0;34m)\u001b[0m\u001b[0;34m\u001b[0m\u001b[0;34m\u001b[0m\u001b[0m\n\u001b[0;32m----> 8\u001b[0;31m     enclosure = etree.SubElement(item, \n\u001b[0m\u001b[1;32m      9\u001b[0m                                  \u001b[0mtype\u001b[0m\u001b[0;34m=\u001b[0m\u001b[0;34m\"audio/mp3\"\u001b[0m\u001b[0;34m,\u001b[0m\u001b[0;34m\u001b[0m\u001b[0;34m\u001b[0m\u001b[0m\n\u001b[1;32m     10\u001b[0m                                  url=f\"/dylan_songs/{mp3_name}\")\n",
      "\u001b[0;32msrc/lxml/etree.pyx\u001b[0m in \u001b[0;36mlxml.etree.SubElement\u001b[0;34m()\u001b[0m\n",
      "\u001b[0;31mTypeError\u001b[0m: SubElement() takes at least 2 positional arguments (1 given)"
     ]
    }
   ],
   "source": [
    "create_item(titles[0])"
   ]
  },
  {
   "cell_type": "code",
   "execution_count": 34,
   "metadata": {},
   "outputs": [
    {
     "name": "stdout",
     "output_type": "stream",
     "text": [
      "<rss xmlns=\"http://www.itunes.com/dtds/podcast-1.0.dtd\"><channel><title>Bob Dylan's 50 Greatest Songs - Ranked</title><description>As fans puzzle out the epic &#8220;Murder Most Foul,&#8221; we count down the best of Bob, from the fury of &#8220;Pay in Blood&#8221; to the pure genius of &#8220;Simple Twist of Fate.&#8221;</description><url>https://getpocket.com/explore/item/bob-dylan-s-50-greatest-songs-ranked?utm_source=pocket-newtab</url><item><title>50. Changing of the Guards (1978)</title><description>Street Legal delivered fans a shock: Dylan fronting a large band, with female backing singers to the fore. The words, meanwhile, might well represent an oblique personal history, from adolescence through marriage to religious conversion: whatever they were about, they reduced Patti Smith to tears on first hearing.</description></item></channel></rss>\n"
     ]
    }
   ],
   "source": [
    "print(etree.tostring(rss).decode())"
   ]
  },
  {
   "cell_type": "code",
   "execution_count": 37,
   "metadata": {},
   "outputs": [
    {
     "data": {
      "text/plain": [
       "<Element item at 0x7fe51fa1bd00>"
      ]
     },
     "execution_count": 37,
     "metadata": {},
     "output_type": "execute_result"
    }
   ],
   "source": [
    "rss.find(\"channel/item\")"
   ]
  },
  {
   "cell_type": "code",
   "execution_count": 38,
   "metadata": {},
   "outputs": [],
   "source": [
    "item = rss.find(\"channel/item\")"
   ]
  },
  {
   "cell_type": "code",
   "execution_count": 39,
   "metadata": {},
   "outputs": [],
   "source": [
    "enclosure = etree.SubElement(item, \"enclosure\", type=\"audio/mp3\", url=\"/dylan_songs/changing-of-the-guards.mp3\")"
   ]
  },
  {
   "cell_type": "code",
   "execution_count": 40,
   "metadata": {},
   "outputs": [
    {
     "name": "stdout",
     "output_type": "stream",
     "text": [
      "<rss xmlns=\"http://www.itunes.com/dtds/podcast-1.0.dtd\"><channel><title>Bob Dylan's 50 Greatest Songs - Ranked</title><description>As fans puzzle out the epic &#8220;Murder Most Foul,&#8221; we count down the best of Bob, from the fury of &#8220;Pay in Blood&#8221; to the pure genius of &#8220;Simple Twist of Fate.&#8221;</description><url>https://getpocket.com/explore/item/bob-dylan-s-50-greatest-songs-ranked?utm_source=pocket-newtab</url><item><title>50. Changing of the Guards (1978)</title><description>Street Legal delivered fans a shock: Dylan fronting a large band, with female backing singers to the fore. The words, meanwhile, might well represent an oblique personal history, from adolescence through marriage to religious conversion: whatever they were about, they reduced Patti Smith to tears on first hearing.</description><enclosure type=\"audio/mp3\" url=\"/dylan_songs/changing-of-the-guards.mp3\"/></item></channel></rss>\n"
     ]
    }
   ],
   "source": [
    "print(etree.tostring(rss).decode())"
   ]
  },
  {
   "cell_type": "code",
   "execution_count": 42,
   "metadata": {},
   "outputs": [
    {
     "name": "stdin",
     "output_type": "stream",
     "text": [
      "mp3 path for 49. This Wheel’s on Fire (1967) this-wheels-on-fire.mp3\n"
     ]
    }
   ],
   "source": [
    "create_item(titles[1])"
   ]
  },
  {
   "cell_type": "code",
   "execution_count": 43,
   "metadata": {},
   "outputs": [
    {
     "name": "stdout",
     "output_type": "stream",
     "text": [
      "<rss xmlns=\"http://www.itunes.com/dtds/podcast-1.0.dtd\"><channel><title>Bob Dylan's 50 Greatest Songs - Ranked</title><description>As fans puzzle out the epic &#8220;Murder Most Foul,&#8221; we count down the best of Bob, from the fury of &#8220;Pay in Blood&#8221; to the pure genius of &#8220;Simple Twist of Fate.&#8221;</description><url>https://getpocket.com/explore/item/bob-dylan-s-50-greatest-songs-ranked?utm_source=pocket-newtab</url><item><title>50. Changing of the Guards (1978)</title><description>Street Legal delivered fans a shock: Dylan fronting a large band, with female backing singers to the fore. The words, meanwhile, might well represent an oblique personal history, from adolescence through marriage to religious conversion: whatever they were about, they reduced Patti Smith to tears on first hearing.</description><enclosure type=\"audio/mp3\" url=\"/dylan_songs/changing-of-the-guards.mp3\"/></item><item><title>49. This Wheel&#8217;s on Fire (1967)</title><description>Subsequently covered by everyone from Siouxsie and the Banshees to Kylie Minogue, in every style from psychedelic to electro-glam stomp, the original Basement Tapes recording of This Wheel&#8217;s on Fire &#8211; both a great song and another of Dylan&#8217;s umpteen apocalyptic visions &#8211; has a uniquely intense, eerie quality that no one else has subsequently matched.</description><enclosure type=\"audio/mp3\" url=\"/dylan_songs/this-wheels-on-fire.mp3\"/></item></channel></rss>\n"
     ]
    }
   ],
   "source": [
    "print(etree.tostring(rss).decode())"
   ]
  },
  {
   "cell_type": "code",
   "execution_count": 44,
   "metadata": {},
   "outputs": [
    {
     "name": "stdin",
     "output_type": "stream",
     "text": [
      "mp3 path for 48. Pay in Blood (2012) pay-in-blood.mp3\n",
      "mp3 path for 47. My Back Pages (1964) my-back-pages.mp3\n",
      "mp3 path for 46. Make You Feel My Love (1997) make-you-feel-my-love.mp3\n",
      "mp3 path for 45. Went to See the Gypsy (1970) went-to-see-gypsy.mp3\n",
      "mp3 path for 44. Blowin’ in the Wind (1963) blowin-in-the-wind.mp3\n",
      "mp3 path for 43. Ain’t Talkin’ (2006) aint-talkin.mp3\n",
      "mp3 path for 42. One Too Many Mornings (1964) one-too-many-mornings.mp3\n",
      "mp3 path for 41. Forever Young (1974) forever-young.mp3\n",
      "mp3 path for 40. Jokerman (1983) jokerman.mp3\n",
      "mp3 path for 39. The Times They Are A-Changin’ (1964) the-times-they-are-a-changing.mp3 \n",
      "mp3 path for 38. Love Minus Zero/No Limit (1965) love-minus-zero-limit.mp3\n",
      "mp3 path for 37. If Not For You (1970) if-not-for-you.mp3\n",
      "mp3 path for 36. Knockin’ on Heaven’s Door (1973) knockin-on-heavens-door.mp3\n",
      "mp3 path for 35. Slow Train (1979) slow-train.mp3\n",
      "mp3 path for 34. Brownsville Girl (1986) brownsville-girl.mp3\n",
      "mp3 path for 33. Murder Most Foul (2020) murder-most-foul.mp3\n",
      "mp3 path for 32. It’s All Over Now Baby Blue (1965) its-all-over-now-baby-blue.mp3\n",
      "mp3 path for 31. Isis (1976) isis.mp3\n",
      "mp3 path for 30. High Water (For Charlie Patton) (2001) high-water-for-charley-patton.mp3\n",
      "mp3 path for 29. Don’t Think Twice It’s Alright (1963) high-water-for-charley-patton.mp3\n",
      "mp3 path for 28. All Along the Watchtower (1967) all-along-the-watchtower.mp3\n",
      "mp3 path for 27. Most of the Time (1989) most-of-the-time.mp3\n",
      "mp3 path for 26. I Want You (1966) i-want-you.mp3\n",
      "mp3 path for 25. Simple Twist of Fate (1975) simple-twist-of-fate.mp3\n",
      "mp3 path for 24. Hurricane (1976) hurricane.mp3\n",
      "mp3 path for 23. I Shall Be Released (1967) i-shall-be-released.mp3\n",
      "mp3 path for 22. Chimes of Freedom (1964) chimes-of-freedom.mp3\n",
      "mp3 path for 21. I Threw It All Away (1969) i-threw-it-all-away.mp3\n",
      "mp3 path for 20. A Hard Rain’s A Gonna Fall (1963) a-hard-rains-a-gonna-fall.mp3\n",
      "mp3 path for 19. The Groom’s Still Waiting at the Altar (1981) the-grooms-still-waiting-at-the-altar.mp3\n",
      "mp3 path for 18. Mr Tambourine Man (1965) mr-tambourine-man.mp3\n",
      "mp3 path for 17. Ballad of a Thin Man (1965) ballad-of-a-thin-main.mp3\n",
      "mp3 path for 16. One of Us Must Know (Sooner Or Later) (1966) one-of-us-must-know.mp3 \n",
      "mp3 path for 15. It’s Alright Ma (I’m Only Bleeding) (1965) its-alright-ma-im-only-bleeding.mp3\n",
      "mp3 path for 14. Things Have Changed (1997) things-have-changed.mp3\n",
      "mp3 path for 13. The Lonesome Death of Hattie Carroll (1964) the-lonesome-death-of-hattie-carroll.mp3\n",
      "mp3 path for 12. Tangled Up in Blue (1975) tangled-up-in-blue.mp3\n",
      "mp3 path for 11. Girl From the North Country (1963) girl-from-the-north-country.mp3\n",
      "mp3 path for 10. It Ain’t Me Babe (1964) it-aint-me-babe.mp3\n",
      "mp3 path for 9. Sad Eyed Lady of the Lowlands (1966) sad-eyed-lady-of-the-lowlands.mp3\n",
      "mp3 path for 8. Not Dark Yet (1997) not-dark-yet.mp3\n",
      "mp3 path for 7. Positively Fourth Street (1965) positively-4th-street.mp3\n",
      "mp3 path for 6. Blind Willie McTell (1983) blind-willie-mctell.mp3 \n",
      "mp3 path for 5. Desolation Row (1965) desolation-row.mp3\n",
      "mp3 path for 4. Subterranean Homesick Blues (1965) subterranean-homesick-blues.mp3\n",
      "mp3 path for 3. Idiot Wind (1975) idiot-wind.mp3\n",
      "mp3 path for 2 Visions of Johanna (1966) visions-of-johanna.mp3\n",
      "mp3 path for 1. Like a Rolling Stone (1965) like-a-rolling-stone.mp3\n"
     ]
    }
   ],
   "source": [
    "for title in titles[2:]:\n",
    "    create_item(title)"
   ]
  },
  {
   "cell_type": "code",
   "execution_count": 48,
   "metadata": {},
   "outputs": [],
   "source": [
    "with open(\"/home/jpnelson/2020/catalogue-raisonne/art/floyds_dreams_of_dylan/podcasts/bob-dylans-50-greatest.xml\", \"w+\") as fo:\n",
    "    fo.write(etree.tostring(rss, pretty_print=True).decode())"
   ]
  },
  {
   "cell_type": "code",
   "execution_count": null,
   "metadata": {},
   "outputs": [],
   "source": []
  }
 ],
 "metadata": {
  "kernelspec": {
   "display_name": "Python 3 (ipykernel)",
   "language": "python",
   "name": "python3"
  },
  "language_info": {
   "codemirror_mode": {
    "name": "ipython",
    "version": 3
   },
   "file_extension": ".py",
   "mimetype": "text/x-python",
   "name": "python",
   "nbconvert_exporter": "python",
   "pygments_lexer": "ipython3",
   "version": "3.10.0"
  }
 },
 "nbformat": 4,
 "nbformat_minor": 4
}
