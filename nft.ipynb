{
 "cells": [
  {
   "cell_type": "code",
   "execution_count": 1,
   "id": "fadeb1e9-9295-473f-9da5-f956ab1572f6",
   "metadata": {},
   "outputs": [],
   "source": [
    "import json\n",
    "import pathlib\n",
    "\n",
    "from bs4 import BeautifulSoup"
   ]
  },
  {
   "cell_type": "code",
   "execution_count": 2,
   "id": "efac4a26-c664-4d5d-ae7c-d257be97db84",
   "metadata": {},
   "outputs": [],
   "source": [
    "def nft_metadata(**kwargs):\n",
    "    file_url = kwargs.pop(\"url\")\n",
    "    token_id = kwargs.pop(\"id\")\n",
    "    name = kwargs.pop(\"name\")\n",
    "    description = kwargs.pop(\"desc\")\n",
    "    metadata_dir = pathlib.Path(kwargs.pop(\"dir\"))\n",
    "    attributes = []\n",
    "    for key, value in kwargs.items():\n",
    "        attributes.append( { \"trait_name\": key,\n",
    "                             \"value\": value } )\n",
    "    metadata = {\n",
    "        \"image\": file_url,\n",
    "        \"token_id\": token_id,\n",
    "        \"name\": name,\n",
    "        \"description\": description,\n",
    "        \"attributes\": attributes\n",
    "    }\n",
    "    with (metadata_dir / file_url.split(\"/\")[-1]).open(\"w+\") as fo:\n",
    "        json.dump(metadata, fo, indent=2)\n",
    "    return metadata\n",
    "        \n",
    "        \n",
    "    \n",
    "    "
   ]
  },
  {
   "cell_type": "code",
   "execution_count": null,
   "id": "aeb9f83d-e311-4710-a879-a4f35fcf36c6",
   "metadata": {},
   "outputs": [],
   "source": []
  }
 ],
 "metadata": {
  "kernelspec": {
   "display_name": "Python 3 (ipykernel)",
   "language": "python",
   "name": "python3"
  },
  "language_info": {
   "codemirror_mode": {
    "name": "ipython",
    "version": 3
   },
   "file_extension": ".py",
   "mimetype": "text/x-python",
   "name": "python",
   "nbconvert_exporter": "python",
   "pygments_lexer": "ipython3",
   "version": "3.10.0"
  }
 },
 "nbformat": 4,
 "nbformat_minor": 5
}
